{
  "nbformat": 4,
  "nbformat_minor": 0,
  "metadata": {
    "colab": {
      "provenance": []
    },
    "kernelspec": {
      "name": "python3",
      "display_name": "Python 3"
    },
    "language_info": {
      "name": "python"
    }
  },
  "cells": [
    {
      "cell_type": "markdown",
      "source": [
        "# Projet Machine learning"
      ],
      "metadata": {
        "id": "s-Le1Ugg9OwG"
      }
    },
    {
      "cell_type": "markdown",
      "source": [
        "## Data Acquisition"
      ],
      "metadata": {
        "id": "Por6rv4q9VLM"
      }
    },
    {
      "cell_type": "markdown",
      "source": [
        "### Data Source"
      ],
      "metadata": {
        "id": "PQ6irAcI9bmn"
      }
    },
    {
      "cell_type": "markdown",
      "source": [
        "Il s'agit d'un Dataset pour l'entrainemnt à la classificatin de text trouvé sur Kaggle à l'adresse suivante : https://www.kaggle.com/code/matleonard/text-classification#Making-Predictions\n",
        "\n",
        "Il est composé de deux colonnes. La première est le label des emails (soit ham pour un email normal, soit spam pour un email de type spam. La seconde colonne est composé de text brut représentant les emails."
      ],
      "metadata": {
        "id": "yFpYA8aHaZlM"
      }
    },
    {
      "cell_type": "code",
      "execution_count": 1,
      "metadata": {
        "id": "qTgedYl852Q-"
      },
      "outputs": [],
      "source": [
        "import pandas as pd\n",
        "data = pd.read_csv(\"/content/spam.csv\")"
      ]
    },
    {
      "cell_type": "markdown",
      "source": [
        "## Data Exploration"
      ],
      "metadata": {
        "id": "eqVCRAei9geX"
      }
    },
    {
      "cell_type": "markdown",
      "source": [
        "### Dataset Informations"
      ],
      "metadata": {
        "id": "IPWxcXa99o94"
      }
    },
    {
      "cell_type": "markdown",
      "source": [
        "Cette partie consiste à prendre connaissance de la data. La longueur, la première ligne, le type, le nombre de valeurs uniques etc."
      ],
      "metadata": {
        "id": "ruoGO4f7bOEO"
      }
    },
    {
      "cell_type": "code",
      "source": [
        "print(\"What does the data look like : \\n{}\\n\".format(data.head(1)))\n",
        "print(\"Data composed of {} lins and {} labels.\\n\".format(data.shape[0], data.shape[1]))\n",
        "print(\"Descrription of the data : \\n{}\\n\".format(data.describe()))\n",
        "print(\"Different columns : {}\".format(list(data.columns)))\n",
        "print(\"Different categories : {}\\n\".format(data['label'].unique()))\n",
        "print(\"Example of an emmail : \\n{}\".format(data['text'][0]))"
      ],
      "metadata": {
        "colab": {
          "base_uri": "https://localhost:8080/"
        },
        "id": "xwrmbCBI6NhR",
        "outputId": "5b16891c-0c08-46b3-c785-00eef6a7fc2b"
      },
      "execution_count": 2,
      "outputs": [
        {
          "output_type": "stream",
          "name": "stdout",
          "text": [
            "What does the data look like : \n",
            "  label                                               text\n",
            "0   ham  Go until jurong point, crazy.. Available only ...\n",
            "\n",
            "Data composed of 5572 lins and 2 labels.\n",
            "\n",
            "Descrription of the data : \n",
            "       label                    text\n",
            "count   5572                    5572\n",
            "unique     2                    5158\n",
            "top      ham  Sorry, I'll call later\n",
            "freq    4825                      30\n",
            "\n",
            "Different columns : ['label', 'text']\n",
            "Different categories : ['ham' 'spam']\n",
            "\n",
            "Example of an emmail : \n",
            "Go until jurong point, crazy.. Available only in bugis n great world la e buffet... Cine there got amore wat...\n"
          ]
        }
      ]
    },
    {
      "cell_type": "markdown",
      "source": [
        "### Label Oveview"
      ],
      "metadata": {
        "id": "zPd3IfH09yPK"
      }
    },
    {
      "cell_type": "markdown",
      "source": [
        "Le dataset est composé de 4825 emails normaux et 747 mails de type spam soit une rérpartition en 87% / 13%."
      ],
      "metadata": {
        "id": "9d_JnSygbeE1"
      }
    },
    {
      "cell_type": "code",
      "source": [
        "print(\"Count labels :\\n{}\\n\".format(data['label'].value_counts()))\n",
        "print(\"Count labels in % \\n{}\\n\".format(data['label'].value_counts()/(data['label'].value_counts()[0]+data['label'].value_counts()[1])*100))\n",
        "data['label'].value_counts().plot(kind='bar')"
      ],
      "metadata": {
        "colab": {
          "base_uri": "https://localhost:8080/",
          "height": 475
        },
        "id": "gLZBd8r86vy0",
        "outputId": "a62ff499-a293-4442-df43-7feddee6a7f0"
      },
      "execution_count": 3,
      "outputs": [
        {
          "output_type": "stream",
          "name": "stdout",
          "text": [
            "Count labels :\n",
            "ham     4825\n",
            "spam     747\n",
            "Name: label, dtype: int64\n",
            "\n",
            "Count labels in % \n",
            "ham     86.593683\n",
            "spam    13.406317\n",
            "Name: label, dtype: float64\n",
            "\n"
          ]
        },
        {
          "output_type": "execute_result",
          "data": {
            "text/plain": [
              "<matplotlib.axes._subplots.AxesSubplot at 0x7fb3c8d87150>"
            ]
          },
          "metadata": {},
          "execution_count": 3
        },
        {
          "output_type": "display_data",
          "data": {
            "text/plain": [
              "<Figure size 432x288 with 1 Axes>"
            ],
            "image/png": "[encoded data removed]"
          },
          "metadata": {
            "needs_background": "light"
          }
        }
      ]
    },
    {
      "cell_type": "markdown",
      "source": [
        "Le jeu de donné ne contient aucune valeur nulle / manquante. Tout la partie sur la gestion de ces dernières ne sera donc pas traitée."
      ],
      "metadata": {
        "id": "9TNauDshbxES"
      }
    },
    {
      "cell_type": "code",
      "source": [
        "print(\"Is there any NaN values in labels field or in text field ? :\\n\")\n",
        "data.loc[(data['label'].isna() == True) | (data['text'].isna() == True)]"
      ],
      "metadata": {
        "colab": {
          "base_uri": "https://localhost:8080/",
          "height": 84
        },
        "id": "uA9NcZGN971P",
        "outputId": "d5bd01ab-beb4-4760-dd4b-89aa84add349"
      },
      "execution_count": 4,
      "outputs": [
        {
          "output_type": "stream",
          "name": "stdout",
          "text": [
            "Is there any NaN values in labels field or in text field ? :\n",
            "\n"
          ]
        },
        {
          "output_type": "execute_result",
          "data": {
            "text/plain": [
              "Empty DataFrame\n",
              "Columns: [label, text]\n",
              "Index: []"
            ],
            "text/html": [
              "\n",
              "  <div id=\"df-fba22c4f-c67d-41d6-966b-5a8c7ee588e5\">\n",
              "    <div class=\"colab-df-container\">\n",
              "      <div>\n",
              "<style scoped>\n",
              "    .dataframe tbody tr th:only-of-type {\n",
              "        vertical-align: middle;\n",
              "    }\n",
              "\n",
              "    .dataframe tbody tr th {\n",
              "        vertical-align: top;\n",
              "    }\n",
              "\n",
              "    .dataframe thead th {\n",
              "        text-align: right;\n",
              "    }\n",
              "</style>\n",
              "<table border=\"1\" class=\"dataframe\">\n",
              "  <thead>\n",
              "    <tr style=\"text-align: right;\">\n",
              "      <th></th>\n",
              "      <th>label</th>\n",
              "      <th>text</th>\n",
              "    </tr>\n",
              "  </thead>\n",
              "  <tbody>\n",
              "  </tbody>\n",
              "</table>\n",
              "</div>\n",
              "      <button class=\"colab-df-convert\" onclick=\"convertToInteractive('df-fba22c4f-c67d-41d6-966b-5a8c7ee588e5')\"\n",
              "              title=\"Convert this dataframe to an interactive table.\"\n",
              "              style=\"display:none;\">\n",
              "        \n",
              "  <svg xmlns=\"http://www.w3.org/2000/svg\" height=\"24px\"viewBox=\"0 0 24 24\"\n",
              "       width=\"24px\">\n",
              "    <path d=\"M0 0h24v24H0V0z\" fill=\"none\"/>\n",
              "    <path d=\"M18.56 5.44l.94 2.06.94-2.06 2.06-.94-2.06-.94-.94-2.06-.94 2.06-2.06.94zm-11 1L8.5 8.5l.94-2.06 2.06-.94-2.06-.94L8.5 2.5l-.94 2.06-2.06.94zm10 10l.94 2.06.94-2.06 2.06-.94-2.06-.94-.94-2.06-.94 2.06-2.06.94z\"/><path d=\"M17.41 7.96l-1.37-1.37c-.4-.4-.92-.59-1.43-.59-.52 0-1.04.2-1.43.59L10.3 9.45l-7.72 7.72c-.78.78-.78 2.05 0 2.83L4 21.41c.39.39.9.59 1.41.59.51 0 1.02-.2 1.41-.59l7.78-7.78 2.81-2.81c.8-.78.8-2.07 0-2.86zM5.41 20L4 18.59l7.72-7.72 1.47 1.35L5.41 20z\"/>\n",
              "  </svg>\n",
              "      </button>\n",
              "      \n",
              "  <style>\n",
              "    .colab-df-container {\n",
              "      display:flex;\n",
              "      flex-wrap:wrap;\n",
              "      gap: 12px;\n",
              "    }\n",
              "\n",
              "    .colab-df-convert {\n",
              "      background-color: #E8F0FE;\n",
              "      border: none;\n",
              "      border-radius: 50%;\n",
              "      cursor: pointer;\n",
              "      display: none;\n",
              "      fill: #1967D2;\n",
              "      height: 32px;\n",
              "      padding: 0 0 0 0;\n",
              "      width: 32px;\n",
              "    }\n",
              "\n",
              "    .colab-df-convert:hover {\n",
              "      background-color: #E2EBFA;\n",
              "      box-shadow: 0px 1px 2px rgba(60, 64, 67, 0.3), 0px 1px 3px 1px rgba(60, 64, 67, 0.15);\n",
              "      fill: #174EA6;\n",
              "    }\n",
              "\n",
              "    [theme=dark] .colab-df-convert {\n",
              "      background-color: #3B4455;\n",
              "      fill: #D2E3FC;\n",
              "    }\n",
              "\n",
              "    [theme=dark] .colab-df-convert:hover {\n",
              "      background-color: #434B5C;\n",
              "      box-shadow: 0px 1px 3px 1px rgba(0, 0, 0, 0.15);\n",
              "      filter: drop-shadow(0px 1px 2px rgba(0, 0, 0, 0.3));\n",
              "      fill: #FFFFFF;\n",
              "    }\n",
              "  </style>\n",
              "\n",
              "      <script>\n",
              "        const buttonEl =\n",
              "          document.querySelector('#df-fba22c4f-c67d-41d6-966b-5a8c7ee588e5 button.colab-df-convert');\n",
              "        buttonEl.style.display =\n",
              "          google.colab.kernel.accessAllowed ? 'block' : 'none';\n",
              "\n",
              "        async function convertToInteractive(key) {\n",
              "          const element = document.querySelector('#df-fba22c4f-c67d-41d6-966b-5a8c7ee588e5');\n",
              "          const dataTable =\n",
              "            await google.colab.kernel.invokeFunction('convertToInteractive',\n",
              "                                                     [key], {});\n",
              "          if (!dataTable) return;\n",
              "\n",
              "          const docLinkHtml = 'Like what you see? Visit the ' +\n",
              "            '<a target=\"_blank\" href=https://colab.research.google.com/notebooks/data_table.ipynb>data table notebook</a>'\n",
              "            + ' to learn more about interactive tables.';\n",
              "          element.innerHTML = '';\n",
              "          dataTable['output_type'] = 'display_data';\n",
              "          await google.colab.output.renderOutput(dataTable, element);\n",
              "          const docLink = document.createElement('div');\n",
              "          docLink.innerHTML = docLinkHtml;\n",
              "          element.appendChild(docLink);\n",
              "        }\n",
              "      </script>\n",
              "    </div>\n",
              "  </div>\n",
              "  "
            ]
          },
          "metadata": {},
          "execution_count": 4
        }
      ]
    },
    {
      "cell_type": "markdown",
      "source": [
        "### Create sets : Train, Test & Validation\n",
        "### Choose a proportion between the train and the test dataset"
      ],
      "metadata": {
        "id": "VDiJAdTDAgeI"
      }
    },
    {
      "cell_type": "markdown",
      "source": [
        "A cause du nombre déséquilibré de catégories d'email en faveur des emails normaux, nous avons donc prêté attentionà la structure de la répartition des labels lors du split du jeu en jeu d'entrainement et jeu de test afin de conserver une structure similaire entre les deux.\n",
        "\n",
        "Le choix a été fait de réaliser une séparaation en 80-20 car nous disposions de suffisament de données."
      ],
      "metadata": {
        "id": "y-MAbnxCcB_9"
      }
    },
    {
      "cell_type": "code",
      "source": [
        "from sklearn.model_selection import train_test_split\n",
        "from matplotlib import pyplot as plt\n",
        "from sklearn.utils.multiclass import unique_labels\n",
        "\n",
        "Train_dataset, Test_dataset = train_test_split(data, test_size=0.20, random_state=42, stratify=data.label)\n",
        "print(\"Shap of the Train dataset : {} and shapee of the Test datasset : {}\".format(Train_dataset.shape, Test_dataset.shape))\n",
        "\n",
        "names = unique_labels(Train_dataset.label)\n",
        "vp_train = Train_dataset['label'].value_counts()/(Train_dataset['label'].value_counts()[0]+Train_dataset['label'].value_counts()[1])*100\n",
        "vp_test = Test_dataset['label'].value_counts()/(Test_dataset['label'].value_counts()[0]+Test_dataset['label'].value_counts()[1])*100\n",
        "\n",
        "\n",
        "plt.figure(figsize=(9, 3))\n",
        "plt.subplot(131)\n",
        "plt.bar(names, vp_train)\n",
        "plt.subplot(132)\n",
        "plt.bar(names, vp_test)\n",
        "plt.suptitle('Repartition of labels for tain and test sets',horizontalalignment='right')"
      ],
      "metadata": {
        "colab": {
          "base_uri": "https://localhost:8080/",
          "height": 268
        },
        "id": "WZ3GhmCCBZb0",
        "outputId": "87364121-09f5-409b-b08d-5607c7be1253"
      },
      "execution_count": 5,
      "outputs": [
        {
          "output_type": "stream",
          "name": "stdout",
          "text": [
            "Shap of the Train dataset : (4457, 2) and shapee of the Test datasset : (1115, 2)\n"
          ]
        },
        {
          "output_type": "execute_result",
          "data": {
            "text/plain": [
              "Text(0.5, 0.98, 'Repartition of labels for tain and test sets')"
            ]
          },
          "metadata": {},
          "execution_count": 5
        },
        {
          "output_type": "display_data",
          "data": {
            "text/plain": [
              "<Figure size 648x216 with 2 Axes>"
            ],
            "image/png": "[encoded data removed]"
          },
          "metadata": {
            "needs_background": "light"
          }
        }
      ]
    },
    {
      "cell_type": "markdown",
      "source": [
        "### Analyis\n",
        "### Univariate analysis"
      ],
      "metadata": {
        "id": "AvfewLX0KZpz"
      }
    },
    {
      "cell_type": "markdown",
      "source": [
        "Etant donné la nature de nos données, et le fait que la catégorie à prédire est binaire, nous n'avons que peu d'analyses à faire sur ces dernières mise à part la répartition en nombre et en pourcentage."
      ],
      "metadata": {
        "id": "zMpssNrGcqNR"
      }
    },
    {
      "cell_type": "code",
      "source": [
        "# Frequency tables\n",
        "freq_table = pd.DataFrame(round(Train_dataset['label'].value_counts()/(Train_dataset['label'].value_counts()[0]+Train_dataset['label'].value_counts()[1])*100,2))\n",
        "freq_table['labels frequency'] = freq_table['label'].apply(lambda x: str(x) + ' %')\n",
        "print(freq_table['labels frequency'])\n",
        "\n",
        "# Pie charts\n",
        "sizes = list(freq_table['label'])\n",
        "explode = (0.1,0)\n",
        "fig1, ax1 = plt.subplots()\n",
        "ax1.pie(sizes, explode=explode, labels=names, autopct='%1.1f%%',\n",
        "        shadow=True, startangle=90)\n",
        "ax1.axis('equal') \n",
        "plt.show()\n",
        "\n",
        "# Bar charts\n",
        "count = Train_dataset['label'].value_counts()\n",
        "purcentage = Train_dataset['label'].value_counts()/(Train_dataset['label'].value_counts()[0]+Train_dataset['label'].value_counts()[1])*100\n",
        "\n",
        "plt.figure(figsize=(9, 3))\n",
        "plt.subplot(131)\n",
        "plt.bar(names, count)\n",
        "plt.subplot(132)\n",
        "plt.bar(names, purcentage)\n",
        "plt.suptitle('Repartition of labels for tain set',horizontalalignment='right')"
      ],
      "metadata": {
        "colab": {
          "base_uri": "https://localhost:8080/",
          "height": 533
        },
        "id": "Go6reSVaKb3q",
        "outputId": "e7663689-4467-4d93-9eab-2eb0081187f8"
      },
      "execution_count": 6,
      "outputs": [
        {
          "output_type": "stream",
          "name": "stdout",
          "text": [
            "ham     86.58 %\n",
            "spam    13.42 %\n",
            "Name: labels frequency, dtype: object\n"
          ]
        },
        {
          "output_type": "display_data",
          "data": {
            "text/plain": [
              "<Figure size 432x288 with 1 Axes>"
            ],
            "image/png": "[encoded data removed]"
          },
          "metadata": {}
        },
        {
          "output_type": "execute_result",
          "data": {
            "text/plain": [
              "Text(0.5, 0.98, 'Repartition of labels for tain set')"
            ]
          },
          "metadata": {},
          "execution_count": 6
        },
        {
          "output_type": "display_data",
          "data": {
            "text/plain": [
              "<Figure size 648x216 with 2 Axes>"
            ],
            "image/png": "[encoded data removed]"
          },
          "metadata": {
            "needs_background": "light"
          }
        }
      ]
    },
    {
      "cell_type": "markdown",
      "source": [
        "## Data Preprocessing"
      ],
      "metadata": {
        "id": "J9iRGKgWQEmq"
      }
    },
    {
      "cell_type": "markdown",
      "source": [
        "### Data Transformation"
      ],
      "metadata": {
        "id": "UiubWYHAQY5X"
      }
    },
    {
      "cell_type": "markdown",
      "source": [
        "L'une des premières choses que nous avons fait est le nettoyage de nos données. Bien que ces dernières soient textuelles, certains éléments (comme les caractères spéciaux) peuvent vnir polluer notre modèle. Nous avons donc décider de retirer: \n",
        "- passonss toutt le texte en minuscule\n",
        "- La ponctuation\n",
        "- Les tags\n",
        "- Les chiffres\n",
        "- Les caractères spéciaux"
      ],
      "metadata": {
        "id": "FuA5tANedGm9"
      }
    },
    {
      "cell_type": "code",
      "source": [
        "DF_train = Train_dataset.copy().reset_index().drop(['index'], axis=1)"
      ],
      "metadata": {
        "id": "pB7lb0MKTyWX"
      },
      "execution_count": 7,
      "outputs": []
    },
    {
      "cell_type": "code",
      "source": [
        "import re\n",
        "\n",
        "clean_txt = []\n",
        "\n",
        "for w in range(len(DF_train.text)):\n",
        "    desc = DF_train['text'][w].lower()\n",
        "\n",
        "    #remove punctuation\n",
        "    desc = re.sub('[^a-zA-Z]', ' ', desc)\n",
        "\n",
        "    #remove tags\n",
        "    desc = re.sub(\"&lt;/?.*?&gt;\",\" &lt;&gt; \",desc)\n",
        "\n",
        "    #remove digits and special chars\n",
        "    desc = re.sub(\"(\\\\d|\\\\W)+\",\" \",desc)\n",
        "    clean_txt.append(desc)\n",
        "\n",
        "DF_train['text'] = clean_txt\n",
        "DF_train.head()"
      ],
      "metadata": {
        "colab": {
          "base_uri": "https://localhost:8080/",
          "height": 206
        },
        "id": "TMGAuWCKQZEo",
        "outputId": "48b28002-cac7-40bb-b2c4-8469d3d27d37"
      },
      "execution_count": 8,
      "outputs": [
        {
          "output_type": "execute_result",
          "data": {
            "text/plain": [
              "  label                                               text\n",
              "0   ham                         going on nothing great bye\n",
              "1   ham                       i wont so wat s wit the guys\n",
              "2   ham                 ok k sry i knw siva tats y i askd \n",
              "3   ham  where are you what do you do how can you stand...\n",
              "4   ham       have you not finished work yet or something "
            ],
            "text/html": [
              "\n",
              "  <div id=\"df-70ce3b38-cdb1-4eb3-8aaa-6ea08718c8bd\">\n",
              "    <div class=\"colab-df-container\">\n",
              "      <div>\n",
              "<style scoped>\n",
              "    .dataframe tbody tr th:only-of-type {\n",
              "        vertical-align: middle;\n",
              "    }\n",
              "\n",
              "    .dataframe tbody tr th {\n",
              "        vertical-align: top;\n",
              "    }\n",
              "\n",
              "    .dataframe thead th {\n",
              "        text-align: right;\n",
              "    }\n",
              "</style>\n",
              "<table border=\"1\" class=\"dataframe\">\n",
              "  <thead>\n",
              "    <tr style=\"text-align: right;\">\n",
              "      <th></th>\n",
              "      <th>label</th>\n",
              "      <th>text</th>\n",
              "    </tr>\n",
              "  </thead>\n",
              "  <tbody>\n",
              "    <tr>\n",
              "      <th>0</th>\n",
              "      <td>ham</td>\n",
              "      <td>going on nothing great bye</td>\n",
              "    </tr>\n",
              "    <tr>\n",
              "      <th>1</th>\n",
              "      <td>ham</td>\n",
              "      <td>i wont so wat s wit the guys</td>\n",
              "    </tr>\n",
              "    <tr>\n",
              "      <th>2</th>\n",
              "      <td>ham</td>\n",
              "      <td>ok k sry i knw siva tats y i askd</td>\n",
              "    </tr>\n",
              "    <tr>\n",
              "      <th>3</th>\n",
              "      <td>ham</td>\n",
              "      <td>where are you what do you do how can you stand...</td>\n",
              "    </tr>\n",
              "    <tr>\n",
              "      <th>4</th>\n",
              "      <td>ham</td>\n",
              "      <td>have you not finished work yet or something</td>\n",
              "    </tr>\n",
              "  </tbody>\n",
              "</table>\n",
              "</div>\n",
              "      <button class=\"colab-df-convert\" onclick=\"convertToInteractive('df-70ce3b38-cdb1-4eb3-8aaa-6ea08718c8bd')\"\n",
              "              title=\"Convert this dataframe to an interactive table.\"\n",
              "              style=\"display:none;\">\n",
              "        \n",
              "  <svg xmlns=\"http://www.w3.org/2000/svg\" height=\"24px\"viewBox=\"0 0 24 24\"\n",
              "       width=\"24px\">\n",
              "    <path d=\"M0 0h24v24H0V0z\" fill=\"none\"/>\n",
              "    <path d=\"M18.56 5.44l.94 2.06.94-2.06 2.06-.94-2.06-.94-.94-2.06-.94 2.06-2.06.94zm-11 1L8.5 8.5l.94-2.06 2.06-.94-2.06-.94L8.5 2.5l-.94 2.06-2.06.94zm10 10l.94 2.06.94-2.06 2.06-.94-2.06-.94-.94-2.06-.94 2.06-2.06.94z\"/><path d=\"M17.41 7.96l-1.37-1.37c-.4-.4-.92-.59-1.43-.59-.52 0-1.04.2-1.43.59L10.3 9.45l-7.72 7.72c-.78.78-.78 2.05 0 2.83L4 21.41c.39.39.9.59 1.41.59.51 0 1.02-.2 1.41-.59l7.78-7.78 2.81-2.81c.8-.78.8-2.07 0-2.86zM5.41 20L4 18.59l7.72-7.72 1.47 1.35L5.41 20z\"/>\n",
              "  </svg>\n",
              "      </button>\n",
              "      \n",
              "  <style>\n",
              "    .colab-df-container {\n",
              "      display:flex;\n",
              "      flex-wrap:wrap;\n",
              "      gap: 12px;\n",
              "    }\n",
              "\n",
              "    .colab-df-convert {\n",
              "      background-color: #E8F0FE;\n",
              "      border: none;\n",
              "      border-radius: 50%;\n",
              "      cursor: pointer;\n",
              "      display: none;\n",
              "      fill: #1967D2;\n",
              "      height: 32px;\n",
              "      padding: 0 0 0 0;\n",
              "      width: 32px;\n",
              "    }\n",
              "\n",
              "    .colab-df-convert:hover {\n",
              "      background-color: #E2EBFA;\n",
              "      box-shadow: 0px 1px 2px rgba(60, 64, 67, 0.3), 0px 1px 3px 1px rgba(60, 64, 67, 0.15);\n",
              "      fill: #174EA6;\n",
              "    }\n",
              "\n",
              "    [theme=dark] .colab-df-convert {\n",
              "      background-color: #3B4455;\n",
              "      fill: #D2E3FC;\n",
              "    }\n",
              "\n",
              "    [theme=dark] .colab-df-convert:hover {\n",
              "      background-color: #434B5C;\n",
              "      box-shadow: 0px 1px 3px 1px rgba(0, 0, 0, 0.15);\n",
              "      filter: drop-shadow(0px 1px 2px rgba(0, 0, 0, 0.3));\n",
              "      fill: #FFFFFF;\n",
              "    }\n",
              "  </style>\n",
              "\n",
              "      <script>\n",
              "        const buttonEl =\n",
              "          document.querySelector('#df-70ce3b38-cdb1-4eb3-8aaa-6ea08718c8bd button.colab-df-convert');\n",
              "        buttonEl.style.display =\n",
              "          google.colab.kernel.accessAllowed ? 'block' : 'none';\n",
              "\n",
              "        async function convertToInteractive(key) {\n",
              "          const element = document.querySelector('#df-70ce3b38-cdb1-4eb3-8aaa-6ea08718c8bd');\n",
              "          const dataTable =\n",
              "            await google.colab.kernel.invokeFunction('convertToInteractive',\n",
              "                                                     [key], {});\n",
              "          if (!dataTable) return;\n",
              "\n",
              "          const docLinkHtml = 'Like what you see? Visit the ' +\n",
              "            '<a target=\"_blank\" href=https://colab.research.google.com/notebooks/data_table.ipynb>data table notebook</a>'\n",
              "            + ' to learn more about interactive tables.';\n",
              "          element.innerHTML = '';\n",
              "          dataTable['output_type'] = 'display_data';\n",
              "          await google.colab.output.renderOutput(dataTable, element);\n",
              "          const docLink = document.createElement('div');\n",
              "          docLink.innerHTML = docLinkHtml;\n",
              "          element.appendChild(docLink);\n",
              "        }\n",
              "      </script>\n",
              "    </div>\n",
              "  </div>\n",
              "  "
            ]
          },
          "metadata": {},
          "execution_count": 8
        }
      ]
    },
    {
      "cell_type": "code",
      "source": [
        "X_train = DF_train.copy()\n",
        "Y_train = X_train.pop('label')"
      ],
      "metadata": {
        "id": "vGsnP0-YS1Tn"
      },
      "execution_count": 65,
      "outputs": []
    },
    {
      "cell_type": "markdown",
      "source": [
        "Lor du traitement de la donnée textuelle par les algorithmes de ML, les input de Data correspondent à des fichiers de texte convertis en vecteurs de caractéristiques numériques. Ici, nous avons segmenter chaque fichier de mots et comptonss le nombre de fois que chaque mmot apparait dans chaque document(fichier / input). Chaque mot se voit ensuite attribué un identifiant (int).\n",
        "\n",
        "La première pératin renvoie une sortie de type : [n échantillons, n caractéristiques]\n",
        "\n",
        "Cependant, il existe un problème, le simlple fait de coompterr chaque mot implique que nous attribuons en réalité un poids aux mots et par conséquent, nous donnons une importance plus grande aux documents longs qu'aux plus courts. La ssolution est de compter non pas poour chaque document mais pour l'ensemble des docuements. Exemple: \n",
        "- Au lieu d'avoir : Doc 1 \"bonjour\" 20, Doc 2 \"bonjour\" 10\n",
        "- Nous aurons : Doc \"bonjour\" 30\n",
        "\n",
        "Aui, certains mots semblent mooins important que d'autres (ex \"de\", \"le\" etc.), nous décidons donc de baisser l'importance que nous accordons à ces derniers en réduisant leur poids.\n",
        "\n",
        "Tout cela est réalisé grâace aau TD-IDF de sklearn."
      ],
      "metadata": {
        "id": "pE5hTPYHdqQG"
      }
    },
    {
      "cell_type": "code",
      "source": [
        "from sklearn.feature_extraction.text import CountVectorizer \n",
        "from sklearn.feature_extraction.text import TfidfTransformer\n",
        "\n",
        "# Convert to numerical vectors\n",
        "count_vect = CountVectorizer() \n",
        "X_train_counts = count_vect.fit_transform(X_train.text) \n",
        "print(X_train_counts.shape)\n",
        "\n",
        "from sklearn.feature_extraction.text import TfidfTransformer\n",
        "\n",
        "# Usee global term frequencies and reduce the weightage of more common words\n",
        "tfidf_transformer = TfidfTransformer()\n",
        "X_train_tfidf = tfidf_transformer.fit_transform(X_train_counts)\n",
        "print(X_train_tfidf.shape)"
      ],
      "metadata": {
        "colab": {
          "base_uri": "https://localhost:8080/"
        },
        "id": "OX0D1l8tTaie",
        "outputId": "e48d85f9-6518-4a64-a00a-b3b1204048ab"
      },
      "execution_count": 108,
      "outputs": [
        {
          "output_type": "stream",
          "name": "stdout",
          "text": [
            "(4457, 6836)\n",
            "(4457, 6836)\n"
          ]
        }
      ]
    },
    {
      "cell_type": "markdown",
      "source": [
        "## Model Training"
      ],
      "metadata": {
        "id": "ZzW26O73XX-_"
      }
    },
    {
      "cell_type": "markdown",
      "source": [
        "### Model Seletion | Quick hyperparameters selection | Over/Underfitting"
      ],
      "metadata": {
        "id": "Wpcb-SqWXaxO"
      }
    },
    {
      "cell_type": "markdown",
      "source": [
        "A travers cette section, nous avons décidé de selectionner un 1er groupe de modèles, et pour chacun d'eux réaliser une rapide variation de certains paramètres (afin d'être plus pertinent dans le choix de notre modèle par la suite).\n",
        "\n",
        "Nous sommes concernés par la famille des modèles d'apprentissages supervisés de type clasification ; nous avons préselectionnés les modèle suivants: \n",
        "1. Multinomial Naive Bayes (MNB)\n",
        "2. Stochastic Gradient Descent Classsifier (SGDC)\n",
        "3. Logistic Regression (LR)\n",
        "4. Support Vector Machine (SVC)\n",
        "5. eXtreme Gradient Boosting (XGBC)\n",
        "\n",
        "Concernnt les métriques d'évaluations nous avons décidé d'en suivrer plusieurs:\n",
        "1. le F1-score pour le prédictions binomiales\n",
        "2. L'accuraacy\n",
        "3. La précision"
      ],
      "metadata": {
        "id": "UYVmVq9agTIO"
      }
    },
    {
      "cell_type": "code",
      "source": [
        "from sklearn.model_selection import RandomizedSearchCV\n",
        "import numpy as np\n",
        "from sklearn.metrics import f1_score, accuracy_score, precision_score\n",
        "from sklearn.metrics import make_scorer\n",
        "\n",
        "# define metrics\n",
        "scoring = {'f1': make_scorer(f1_score, pos_label='spam'),\n",
        "           'prec': make_scorer(precision_score, pos_label='spam'),\n",
        "           'acc': make_scorer(accuracy_score)\n",
        "           }"
      ],
      "metadata": {
        "id": "UVNfex0TYl23"
      },
      "execution_count": 11,
      "outputs": []
    },
    {
      "cell_type": "code",
      "source": [
        "# Naive Bayes Model\n",
        "from sklearn.naive_bayes import MultinomialNB\n",
        "\n",
        "MNB = MultinomialNB()\n",
        "\n",
        "parameters_space = {'alpha' : np.arange(0, 1, 0.0001),\n",
        "                    'fit_prior' : [True, False]\n",
        "                    }\n",
        "\n",
        "rscv_MNB = RandomizedSearchCV(MNB, \n",
        "                          parameters_space, \n",
        "                          n_iter=50, \n",
        "                          cv=2, \n",
        "                          scoring = scoring, \n",
        "                          refit='f1',\n",
        "                          verbose=0,\n",
        "                          random_state=42)\n",
        "\n",
        "rscv_MNB.fit(X_train_tfidf, Y_train)\n",
        "\n",
        "results_MNB = pd.DataFrame(rscv_MNB.cv_results_)"
      ],
      "metadata": {
        "id": "ME5f-QLXXdn1"
      },
      "execution_count": 12,
      "outputs": []
    },
    {
      "cell_type": "code",
      "source": [
        "rscv_MNB.best_score_, rscv_MNB.best_params_"
      ],
      "metadata": {
        "colab": {
          "base_uri": "https://localhost:8080/"
        },
        "id": "EykJeJJosXt0",
        "outputId": "51e58393-0425-4250-fc6a-ce61d7284892"
      },
      "execution_count": 13,
      "outputs": [
        {
          "output_type": "execute_result",
          "data": {
            "text/plain": [
              "(0.9276378158031948, {'fit_prior': True, 'alpha': 0.1306})"
            ]
          },
          "metadata": {},
          "execution_count": 13
        }
      ]
    },
    {
      "cell_type": "code",
      "source": [
        "# SGD\n",
        "from sklearn.linear_model import SGDClassifier\n",
        "\n",
        "SGD = SGDClassifier()\n",
        "\n",
        "parameters_space = {'loss' : ['hinge','modified_huber','squared_hinge','perceptron'],\n",
        "                    'penalty' : ['l2', 'l1', 'elasticnet'],\n",
        "                    'max_iter': range(1000, 100000, 100),\n",
        "                    'alpha': np.arange(0, 1, 0.0001)\n",
        "                    }\n",
        "\n",
        "rscv_SGD = RandomizedSearchCV(SGD, \n",
        "                          parameters_space, \n",
        "                          n_iter=50, \n",
        "                          cv=2, \n",
        "                          scoring = scoring, \n",
        "                          refit='f1',\n",
        "                          verbose=0,\n",
        "                          random_state=42)\n",
        "\n",
        "rscv_SGD.fit(X_train_tfidf, Y_train)\n",
        "\n",
        "results_SGD = pd.DataFrame(rscv_SGD.cv_results_)"
      ],
      "metadata": {
        "id": "D_iYb-1TgdZP"
      },
      "execution_count": null,
      "outputs": []
    },
    {
      "cell_type": "code",
      "source": [
        "rscv_SGD.best_score_, rscv_SGD.best_params_"
      ],
      "metadata": {
        "colab": {
          "base_uri": "https://localhost:8080/"
        },
        "id": "MfPEK0yrr_7M",
        "outputId": "6bbbe6f4-4922-4fe2-9569-a1435505705f"
      },
      "execution_count": 15,
      "outputs": [
        {
          "output_type": "execute_result",
          "data": {
            "text/plain": [
              "(0.7957567353113482,\n",
              " {'penalty': 'l2', 'max_iter': 20400, 'loss': 'perceptron', 'alpha': 0.112})"
            ]
          },
          "metadata": {},
          "execution_count": 15
        }
      ]
    },
    {
      "cell_type": "code",
      "source": [
        "# Logistic Regression Model\n",
        "from sklearn.linear_model import LogisticRegression\n",
        "\n",
        "logreg = LogisticRegression()\n",
        "\n",
        "parameters_space = {'solver' : ['liblinear','sag','saga'],\n",
        "                    'penalty' : ['l2', 'l1', 'elasticnet'],\n",
        "                    'max_iter': range(100, 1000, 10),\n",
        "                    'C': np.arange(0.0001, 1, 0.001)\n",
        "                    }\n",
        "\n",
        "rscv_logreg = RandomizedSearchCV(logreg, \n",
        "                          parameters_space, \n",
        "                          n_iter=100, \n",
        "                          cv=5, \n",
        "                          scoring = scoring, \n",
        "                          refit='f1',\n",
        "                          verbose=0,\n",
        "                          random_state=42)\n",
        "\n",
        "rscv_logreg.fit(X_train_tfidf, Y_train)\n",
        "\n",
        "results_logreg = pd.DataFrame(rscv_logreg.cv_results_)"
      ],
      "metadata": {
        "id": "yNRRwf2atU5_"
      },
      "execution_count": null,
      "outputs": []
    },
    {
      "cell_type": "code",
      "source": [
        "rscv_logreg.best_score_, rscv_logreg.best_params_"
      ],
      "metadata": {
        "colab": {
          "base_uri": "https://localhost:8080/"
        },
        "id": "H2FE7sNxufRD",
        "outputId": "aac8c8d7-2007-4ac5-e863-f9fdffa4fcf5"
      },
      "execution_count": 27,
      "outputs": [
        {
          "output_type": "execute_result",
          "data": {
            "text/plain": [
              "(0.837192501959396,\n",
              " {'solver': 'saga', 'penalty': 'l2', 'max_iter': 930, 'C': 0.9941})"
            ]
          },
          "metadata": {},
          "execution_count": 27
        }
      ]
    },
    {
      "cell_type": "code",
      "source": [
        "# Support Vector Machines Model\n",
        "from sklearn.svm import SVC\n",
        "\n",
        "SVC = SVC()\n",
        "\n",
        "parameters_space = {'kernel' : ['linear','poly', 'rbf', 'sigmoid'],\n",
        "                    'gamma': np.arange(0.0001, 1, 0.001),\n",
        "                    'C': np.arange(0.0001, 1, 0.001)\n",
        "                    }\n",
        "\n",
        "rscv_SVC = RandomizedSearchCV(SVC, \n",
        "                          parameters_space, \n",
        "                          n_iter=50, \n",
        "                          cv=2, \n",
        "                          scoring = scoring, \n",
        "                          refit='f1',\n",
        "                          verbose=0,\n",
        "                          random_state=42)\n",
        "\n",
        "rscv_SVC.fit(X_train_tfidf, Y_train)\n",
        "\n",
        "results_SVC = pd.DataFrame(rscv_SVC.cv_results_)"
      ],
      "metadata": {
        "id": "PqY-JDR99Ntq"
      },
      "execution_count": null,
      "outputs": []
    },
    {
      "cell_type": "code",
      "source": [
        "rscv_SVC.best_score_, rscv_SVC.best_params_"
      ],
      "metadata": {
        "colab": {
          "base_uri": "https://localhost:8080/"
        },
        "id": "cZg5jOFZD5Kb",
        "outputId": "eb65c90c-f69b-40eb-f273-970e38bc3837"
      },
      "execution_count": 23,
      "outputs": [
        {
          "output_type": "execute_result",
          "data": {
            "text/plain": [
              "(0.9129370943328459, {'kernel': 'linear', 'gamma': 0.3811, 'C': 0.8451})"
            ]
          },
          "metadata": {},
          "execution_count": 23
        }
      ]
    },
    {
      "cell_type": "code",
      "source": [
        "# XGBoost\n",
        "from xgboost.sklearn import XGBClassifier\n",
        "\n",
        "XGB = XGBClassifier()\n",
        "\n",
        "parameters_space = {'loss' : ['deviance','exponential'],\n",
        "                    'n_estimators': range(100,500,10)\n",
        "                    }\n",
        "\n",
        "rscv_XGB = RandomizedSearchCV(XGB, \n",
        "                          parameters_space, \n",
        "                          n_iter=50, \n",
        "                          cv=2, \n",
        "                          scoring = scoring, \n",
        "                          refit='f1',\n",
        "                          verbose=0,\n",
        "                          random_state=42)\n",
        "\n",
        "rscv_XGB.fit(X_train_tfidf, Y_train)\n",
        "\n",
        "results_XGB = pd.DataFrame(rscv_XGB.cv_results_)"
      ],
      "metadata": {
        "id": "l0RfOCHY_dCx"
      },
      "execution_count": 19,
      "outputs": []
    },
    {
      "cell_type": "code",
      "source": [
        "rscv_XGB.best_score_, rscv_XGB.best_params_"
      ],
      "metadata": {
        "colab": {
          "base_uri": "https://localhost:8080/"
        },
        "id": "3APK8cd-EBnN",
        "outputId": "2692e8d6-fcb0-45f9-f5ee-b6f023c74710"
      },
      "execution_count": 24,
      "outputs": [
        {
          "output_type": "execute_result",
          "data": {
            "text/plain": [
              "(0.8997536945812808, {'n_estimators': 310, 'loss': 'exponential'})"
            ]
          },
          "metadata": {},
          "execution_count": 24
        }
      ]
    },
    {
      "cell_type": "markdown",
      "source": [
        "### Scoring"
      ],
      "metadata": {
        "id": "p_YfpaVbyPTX"
      }
    },
    {
      "cell_type": "markdown",
      "source": [
        "Nous avons affiché chaque résultat classé par test d'accuracy décroissant."
      ],
      "metadata": {
        "id": "2_TRx6vhh2bU"
      }
    },
    {
      "cell_type": "code",
      "source": [
        "results_MNB[['params','mean_test_prec','rank_test_prec','mean_test_acc','rank_test_acc', 'mean_test_f1','rank_test_f1']].sort_values('mean_test_acc', ascending=False).head()"
      ],
      "metadata": {
        "colab": {
          "base_uri": "https://localhost:8080/",
          "height": 206
        },
        "id": "nyKpX4uOzY-N",
        "outputId": "7853f70b-0a72-4660-a476-3379494ffad4"
      },
      "execution_count": 28,
      "outputs": [
        {
          "output_type": "execute_result",
          "data": {
            "text/plain": [
              "                                               params  mean_test_prec  \\\n",
              "43               {'fit_prior': True, 'alpha': 0.1306}        0.955574   \n",
              "32               {'fit_prior': True, 'alpha': 0.1778}        0.970408   \n",
              "33               {'fit_prior': True, 'alpha': 0.1945}        0.972103   \n",
              "49  {'fit_prior': True, 'alpha': 0.15760000000000002}        0.963596   \n",
              "1   {'fit_prior': True, 'alpha': 0.043000000000000...        0.916714   \n",
              "\n",
              "    rank_test_prec  mean_test_acc  rank_test_acc  mean_test_f1  rank_test_f1  \n",
              "43              24       0.981152              1      0.927638             1  \n",
              "32              22       0.980928              2      0.925434             3  \n",
              "33              21       0.980928              3      0.925286             4  \n",
              "49              23       0.980479              4      0.924105             5  \n",
              "1               25       0.980255              5      0.927294             2  "
            ],
            "text/html": [
              "\n",
              "  <div id=\"df-9beea9d4-ee7f-4dac-9d2a-9cba4d5b2ca8\">\n",
              "    <div class=\"colab-df-container\">\n",
              "      <div>\n",
              "<style scoped>\n",
              "    .dataframe tbody tr th:only-of-type {\n",
              "        vertical-align: middle;\n",
              "    }\n",
              "\n",
              "    .dataframe tbody tr th {\n",
              "        vertical-align: top;\n",
              "    }\n",
              "\n",
              "    .dataframe thead th {\n",
              "        text-align: right;\n",
              "    }\n",
              "</style>\n",
              "<table border=\"1\" class=\"dataframe\">\n",
              "  <thead>\n",
              "    <tr style=\"text-align: right;\">\n",
              "      <th></th>\n",
              "      <th>params</th>\n",
              "      <th>mean_test_prec</th>\n",
              "      <th>rank_test_prec</th>\n",
              "      <th>mean_test_acc</th>\n",
              "      <th>rank_test_acc</th>\n",
              "      <th>mean_test_f1</th>\n",
              "      <th>rank_test_f1</th>\n",
              "    </tr>\n",
              "  </thead>\n",
              "  <tbody>\n",
              "    <tr>\n",
              "      <th>43</th>\n",
              "      <td>{'fit_prior': True, 'alpha': 0.1306}</td>\n",
              "      <td>0.955574</td>\n",
              "      <td>24</td>\n",
              "      <td>0.981152</td>\n",
              "      <td>1</td>\n",
              "      <td>0.927638</td>\n",
              "      <td>1</td>\n",
              "    </tr>\n",
              "    <tr>\n",
              "      <th>32</th>\n",
              "      <td>{'fit_prior': True, 'alpha': 0.1778}</td>\n",
              "      <td>0.970408</td>\n",
              "      <td>22</td>\n",
              "      <td>0.980928</td>\n",
              "      <td>2</td>\n",
              "      <td>0.925434</td>\n",
              "      <td>3</td>\n",
              "    </tr>\n",
              "    <tr>\n",
              "      <th>33</th>\n",
              "      <td>{'fit_prior': True, 'alpha': 0.1945}</td>\n",
              "      <td>0.972103</td>\n",
              "      <td>21</td>\n",
              "      <td>0.980928</td>\n",
              "      <td>3</td>\n",
              "      <td>0.925286</td>\n",
              "      <td>4</td>\n",
              "    </tr>\n",
              "    <tr>\n",
              "      <th>49</th>\n",
              "      <td>{'fit_prior': True, 'alpha': 0.15760000000000002}</td>\n",
              "      <td>0.963596</td>\n",
              "      <td>23</td>\n",
              "      <td>0.980479</td>\n",
              "      <td>4</td>\n",
              "      <td>0.924105</td>\n",
              "      <td>5</td>\n",
              "    </tr>\n",
              "    <tr>\n",
              "      <th>1</th>\n",
              "      <td>{'fit_prior': True, 'alpha': 0.043000000000000...</td>\n",
              "      <td>0.916714</td>\n",
              "      <td>25</td>\n",
              "      <td>0.980255</td>\n",
              "      <td>5</td>\n",
              "      <td>0.927294</td>\n",
              "      <td>2</td>\n",
              "    </tr>\n",
              "  </tbody>\n",
              "</table>\n",
              "</div>\n",
              "      <button class=\"colab-df-convert\" onclick=\"convertToInteractive('df-9beea9d4-ee7f-4dac-9d2a-9cba4d5b2ca8')\"\n",
              "              title=\"Convert this dataframe to an interactive table.\"\n",
              "              style=\"display:none;\">\n",
              "        \n",
              "  <svg xmlns=\"http://www.w3.org/2000/svg\" height=\"24px\"viewBox=\"0 0 24 24\"\n",
              "       width=\"24px\">\n",
              "    <path d=\"M0 0h24v24H0V0z\" fill=\"none\"/>\n",
              "    <path d=\"M18.56 5.44l.94 2.06.94-2.06 2.06-.94-2.06-.94-.94-2.06-.94 2.06-2.06.94zm-11 1L8.5 8.5l.94-2.06 2.06-.94-2.06-.94L8.5 2.5l-.94 2.06-2.06.94zm10 10l.94 2.06.94-2.06 2.06-.94-2.06-.94-.94-2.06-.94 2.06-2.06.94z\"/><path d=\"M17.41 7.96l-1.37-1.37c-.4-.4-.92-.59-1.43-.59-.52 0-1.04.2-1.43.59L10.3 9.45l-7.72 7.72c-.78.78-.78 2.05 0 2.83L4 21.41c.39.39.9.59 1.41.59.51 0 1.02-.2 1.41-.59l7.78-7.78 2.81-2.81c.8-.78.8-2.07 0-2.86zM5.41 20L4 18.59l7.72-7.72 1.47 1.35L5.41 20z\"/>\n",
              "  </svg>\n",
              "      </button>\n",
              "      \n",
              "  <style>\n",
              "    .colab-df-container {\n",
              "      display:flex;\n",
              "      flex-wrap:wrap;\n",
              "      gap: 12px;\n",
              "    }\n",
              "\n",
              "    .colab-df-convert {\n",
              "      background-color: #E8F0FE;\n",
              "      border: none;\n",
              "      border-radius: 50%;\n",
              "      cursor: pointer;\n",
              "      display: none;\n",
              "      fill: #1967D2;\n",
              "      height: 32px;\n",
              "      padding: 0 0 0 0;\n",
              "      width: 32px;\n",
              "    }\n",
              "\n",
              "    .colab-df-convert:hover {\n",
              "      background-color: #E2EBFA;\n",
              "      box-shadow: 0px 1px 2px rgba(60, 64, 67, 0.3), 0px 1px 3px 1px rgba(60, 64, 67, 0.15);\n",
              "      fill: #174EA6;\n",
              "    }\n",
              "\n",
              "    [theme=dark] .colab-df-convert {\n",
              "      background-color: #3B4455;\n",
              "      fill: #D2E3FC;\n",
              "    }\n",
              "\n",
              "    [theme=dark] .colab-df-convert:hover {\n",
              "      background-color: #434B5C;\n",
              "      box-shadow: 0px 1px 3px 1px rgba(0, 0, 0, 0.15);\n",
              "      filter: drop-shadow(0px 1px 2px rgba(0, 0, 0, 0.3));\n",
              "      fill: #FFFFFF;\n",
              "    }\n",
              "  </style>\n",
              "\n",
              "      <script>\n",
              "        const buttonEl =\n",
              "          document.querySelector('#df-9beea9d4-ee7f-4dac-9d2a-9cba4d5b2ca8 button.colab-df-convert');\n",
              "        buttonEl.style.display =\n",
              "          google.colab.kernel.accessAllowed ? 'block' : 'none';\n",
              "\n",
              "        async function convertToInteractive(key) {\n",
              "          const element = document.querySelector('#df-9beea9d4-ee7f-4dac-9d2a-9cba4d5b2ca8');\n",
              "          const dataTable =\n",
              "            await google.colab.kernel.invokeFunction('convertToInteractive',\n",
              "                                                     [key], {});\n",
              "          if (!dataTable) return;\n",
              "\n",
              "          const docLinkHtml = 'Like what you see? Visit the ' +\n",
              "            '<a target=\"_blank\" href=https://colab.research.google.com/notebooks/data_table.ipynb>data table notebook</a>'\n",
              "            + ' to learn more about interactive tables.';\n",
              "          element.innerHTML = '';\n",
              "          dataTable['output_type'] = 'display_data';\n",
              "          await google.colab.output.renderOutput(dataTable, element);\n",
              "          const docLink = document.createElement('div');\n",
              "          docLink.innerHTML = docLinkHtml;\n",
              "          element.appendChild(docLink);\n",
              "        }\n",
              "      </script>\n",
              "    </div>\n",
              "  </div>\n",
              "  "
            ]
          },
          "metadata": {},
          "execution_count": 28
        }
      ]
    },
    {
      "cell_type": "code",
      "source": [
        "results_SGD[['params','mean_test_prec','rank_test_prec','mean_test_acc','rank_test_acc', 'mean_test_f1','rank_test_f1']].sort_values('mean_test_acc', ascending=False).head()"
      ],
      "metadata": {
        "colab": {
          "base_uri": "https://localhost:8080/",
          "height": 206
        },
        "id": "KzsxHq-WEkUK",
        "outputId": "26d0ebf1-89b2-4bb0-e9a8-a22ab74c8dd9"
      },
      "execution_count": 29,
      "outputs": [
        {
          "output_type": "execute_result",
          "data": {
            "text/plain": [
              "                                               params  mean_test_prec  \\\n",
              "5   {'penalty': 'l2', 'max_iter': 20400, 'loss': '...        0.937570   \n",
              "0   {'penalty': 'l2', 'max_iter': 44900, 'loss': '...        0.915487   \n",
              "37  {'penalty': 'l2', 'max_iter': 88200, 'loss': '...        0.964995   \n",
              "23  {'penalty': 'l2', 'max_iter': 19300, 'loss': '...        0.500000   \n",
              "28  {'penalty': 'l1', 'max_iter': 47400, 'loss': '...        0.000000   \n",
              "\n",
              "    rank_test_prec  mean_test_acc  rank_test_acc  mean_test_f1  rank_test_f1  \n",
              "5                2       0.952657              1      0.795757             1  \n",
              "0                3       0.940767              2      0.735740             2  \n",
              "37               1       0.939641              3      0.704634             3  \n",
              "23               4       0.866727              4      0.013201             5  \n",
              "28               6       0.865829              5      0.000000             6  "
            ],
            "text/html": [
              "\n",
              "  <div id=\"df-d1d4e328-2f38-4d08-a24e-0a4d4c6d5b5a\">\n",
              "    <div class=\"colab-df-container\">\n",
              "      <div>\n",
              "<style scoped>\n",
              "    .dataframe tbody tr th:only-of-type {\n",
              "        vertical-align: middle;\n",
              "    }\n",
              "\n",
              "    .dataframe tbody tr th {\n",
              "        vertical-align: top;\n",
              "    }\n",
              "\n",
              "    .dataframe thead th {\n",
              "        text-align: right;\n",
              "    }\n",
              "</style>\n",
              "<table border=\"1\" class=\"dataframe\">\n",
              "  <thead>\n",
              "    <tr style=\"text-align: right;\">\n",
              "      <th></th>\n",
              "      <th>params</th>\n",
              "      <th>mean_test_prec</th>\n",
              "      <th>rank_test_prec</th>\n",
              "      <th>mean_test_acc</th>\n",
              "      <th>rank_test_acc</th>\n",
              "      <th>mean_test_f1</th>\n",
              "      <th>rank_test_f1</th>\n",
              "    </tr>\n",
              "  </thead>\n",
              "  <tbody>\n",
              "    <tr>\n",
              "      <th>5</th>\n",
              "      <td>{'penalty': 'l2', 'max_iter': 20400, 'loss': '...</td>\n",
              "      <td>0.937570</td>\n",
              "      <td>2</td>\n",
              "      <td>0.952657</td>\n",
              "      <td>1</td>\n",
              "      <td>0.795757</td>\n",
              "      <td>1</td>\n",
              "    </tr>\n",
              "    <tr>\n",
              "      <th>0</th>\n",
              "      <td>{'penalty': 'l2', 'max_iter': 44900, 'loss': '...</td>\n",
              "      <td>0.915487</td>\n",
              "      <td>3</td>\n",
              "      <td>0.940767</td>\n",
              "      <td>2</td>\n",
              "      <td>0.735740</td>\n",
              "      <td>2</td>\n",
              "    </tr>\n",
              "    <tr>\n",
              "      <th>37</th>\n",
              "      <td>{'penalty': 'l2', 'max_iter': 88200, 'loss': '...</td>\n",
              "      <td>0.964995</td>\n",
              "      <td>1</td>\n",
              "      <td>0.939641</td>\n",
              "      <td>3</td>\n",
              "      <td>0.704634</td>\n",
              "      <td>3</td>\n",
              "    </tr>\n",
              "    <tr>\n",
              "      <th>23</th>\n",
              "      <td>{'penalty': 'l2', 'max_iter': 19300, 'loss': '...</td>\n",
              "      <td>0.500000</td>\n",
              "      <td>4</td>\n",
              "      <td>0.866727</td>\n",
              "      <td>4</td>\n",
              "      <td>0.013201</td>\n",
              "      <td>5</td>\n",
              "    </tr>\n",
              "    <tr>\n",
              "      <th>28</th>\n",
              "      <td>{'penalty': 'l1', 'max_iter': 47400, 'loss': '...</td>\n",
              "      <td>0.000000</td>\n",
              "      <td>6</td>\n",
              "      <td>0.865829</td>\n",
              "      <td>5</td>\n",
              "      <td>0.000000</td>\n",
              "      <td>6</td>\n",
              "    </tr>\n",
              "  </tbody>\n",
              "</table>\n",
              "</div>\n",
              "      <button class=\"colab-df-convert\" onclick=\"convertToInteractive('df-d1d4e328-2f38-4d08-a24e-0a4d4c6d5b5a')\"\n",
              "              title=\"Convert this dataframe to an interactive table.\"\n",
              "              style=\"display:none;\">\n",
              "        \n",
              "  <svg xmlns=\"http://www.w3.org/2000/svg\" height=\"24px\"viewBox=\"0 0 24 24\"\n",
              "       width=\"24px\">\n",
              "    <path d=\"M0 0h24v24H0V0z\" fill=\"none\"/>\n",
              "    <path d=\"M18.56 5.44l.94 2.06.94-2.06 2.06-.94-2.06-.94-.94-2.06-.94 2.06-2.06.94zm-11 1L8.5 8.5l.94-2.06 2.06-.94-2.06-.94L8.5 2.5l-.94 2.06-2.06.94zm10 10l.94 2.06.94-2.06 2.06-.94-2.06-.94-.94-2.06-.94 2.06-2.06.94z\"/><path d=\"M17.41 7.96l-1.37-1.37c-.4-.4-.92-.59-1.43-.59-.52 0-1.04.2-1.43.59L10.3 9.45l-7.72 7.72c-.78.78-.78 2.05 0 2.83L4 21.41c.39.39.9.59 1.41.59.51 0 1.02-.2 1.41-.59l7.78-7.78 2.81-2.81c.8-.78.8-2.07 0-2.86zM5.41 20L4 18.59l7.72-7.72 1.47 1.35L5.41 20z\"/>\n",
              "  </svg>\n",
              "      </button>\n",
              "      \n",
              "  <style>\n",
              "    .colab-df-container {\n",
              "      display:flex;\n",
              "      flex-wrap:wrap;\n",
              "      gap: 12px;\n",
              "    }\n",
              "\n",
              "    .colab-df-convert {\n",
              "      background-color: #E8F0FE;\n",
              "      border: none;\n",
              "      border-radius: 50%;\n",
              "      cursor: pointer;\n",
              "      display: none;\n",
              "      fill: #1967D2;\n",
              "      height: 32px;\n",
              "      padding: 0 0 0 0;\n",
              "      width: 32px;\n",
              "    }\n",
              "\n",
              "    .colab-df-convert:hover {\n",
              "      background-color: #E2EBFA;\n",
              "      box-shadow: 0px 1px 2px rgba(60, 64, 67, 0.3), 0px 1px 3px 1px rgba(60, 64, 67, 0.15);\n",
              "      fill: #174EA6;\n",
              "    }\n",
              "\n",
              "    [theme=dark] .colab-df-convert {\n",
              "      background-color: #3B4455;\n",
              "      fill: #D2E3FC;\n",
              "    }\n",
              "\n",
              "    [theme=dark] .colab-df-convert:hover {\n",
              "      background-color: #434B5C;\n",
              "      box-shadow: 0px 1px 3px 1px rgba(0, 0, 0, 0.15);\n",
              "      filter: drop-shadow(0px 1px 2px rgba(0, 0, 0, 0.3));\n",
              "      fill: #FFFFFF;\n",
              "    }\n",
              "  </style>\n",
              "\n",
              "      <script>\n",
              "        const buttonEl =\n",
              "          document.querySelector('#df-d1d4e328-2f38-4d08-a24e-0a4d4c6d5b5a button.colab-df-convert');\n",
              "        buttonEl.style.display =\n",
              "          google.colab.kernel.accessAllowed ? 'block' : 'none';\n",
              "\n",
              "        async function convertToInteractive(key) {\n",
              "          const element = document.querySelector('#df-d1d4e328-2f38-4d08-a24e-0a4d4c6d5b5a');\n",
              "          const dataTable =\n",
              "            await google.colab.kernel.invokeFunction('convertToInteractive',\n",
              "                                                     [key], {});\n",
              "          if (!dataTable) return;\n",
              "\n",
              "          const docLinkHtml = 'Like what you see? Visit the ' +\n",
              "            '<a target=\"_blank\" href=https://colab.research.google.com/notebooks/data_table.ipynb>data table notebook</a>'\n",
              "            + ' to learn more about interactive tables.';\n",
              "          element.innerHTML = '';\n",
              "          dataTable['output_type'] = 'display_data';\n",
              "          await google.colab.output.renderOutput(dataTable, element);\n",
              "          const docLink = document.createElement('div');\n",
              "          docLink.innerHTML = docLinkHtml;\n",
              "          element.appendChild(docLink);\n",
              "        }\n",
              "      </script>\n",
              "    </div>\n",
              "  </div>\n",
              "  "
            ]
          },
          "metadata": {},
          "execution_count": 29
        }
      ]
    },
    {
      "cell_type": "code",
      "source": [
        "results_logreg[['params','mean_test_prec','rank_test_prec','mean_test_acc','rank_test_acc', 'mean_test_f1','rank_test_f1']].sort_values('mean_test_acc', ascending=False).head()"
      ],
      "metadata": {
        "colab": {
          "base_uri": "https://localhost:8080/",
          "height": 206
        },
        "id": "BbxuXjd4Ekfc",
        "outputId": "1e9cb63b-028b-40cf-aff3-ebdd35e06306"
      },
      "execution_count": 30,
      "outputs": [
        {
          "output_type": "execute_result",
          "data": {
            "text/plain": [
              "                                               params  mean_test_prec  \\\n",
              "76  {'solver': 'saga', 'penalty': 'l2', 'max_iter'...        0.991111   \n",
              "65  {'solver': 'saga', 'penalty': 'l2', 'max_iter'...        0.991021   \n",
              "22  {'solver': 'liblinear', 'penalty': 'l2', 'max_...        0.991021   \n",
              "79  {'solver': 'liblinear', 'penalty': 'l2', 'max_...        0.990928   \n",
              "93  {'solver': 'sag', 'penalty': 'l2', 'max_iter':...        0.990928   \n",
              "\n",
              "    rank_test_prec  mean_test_acc  rank_test_acc  mean_test_f1  rank_test_f1  \n",
              "76              18       0.962306              1      0.837193             1  \n",
              "65              19       0.960510              2      0.827791             4  \n",
              "22              19       0.960510              2      0.827791             4  \n",
              "79              21       0.959838              4      0.824594             6  \n",
              "93              21       0.959838              4      0.824594             6  "
            ],
            "text/html": [
              "\n",
              "  <div id=\"df-cc55624d-0d66-44a4-8cb7-ac8a5816a0a6\">\n",
              "    <div class=\"colab-df-container\">\n",
              "      <div>\n",
              "<style scoped>\n",
              "    .dataframe tbody tr th:only-of-type {\n",
              "        vertical-align: middle;\n",
              "    }\n",
              "\n",
              "    .dataframe tbody tr th {\n",
              "        vertical-align: top;\n",
              "    }\n",
              "\n",
              "    .dataframe thead th {\n",
              "        text-align: right;\n",
              "    }\n",
              "</style>\n",
              "<table border=\"1\" class=\"dataframe\">\n",
              "  <thead>\n",
              "    <tr style=\"text-align: right;\">\n",
              "      <th></th>\n",
              "      <th>params</th>\n",
              "      <th>mean_test_prec</th>\n",
              "      <th>rank_test_prec</th>\n",
              "      <th>mean_test_acc</th>\n",
              "      <th>rank_test_acc</th>\n",
              "      <th>mean_test_f1</th>\n",
              "      <th>rank_test_f1</th>\n",
              "    </tr>\n",
              "  </thead>\n",
              "  <tbody>\n",
              "    <tr>\n",
              "      <th>76</th>\n",
              "      <td>{'solver': 'saga', 'penalty': 'l2', 'max_iter'...</td>\n",
              "      <td>0.991111</td>\n",
              "      <td>18</td>\n",
              "      <td>0.962306</td>\n",
              "      <td>1</td>\n",
              "      <td>0.837193</td>\n",
              "      <td>1</td>\n",
              "    </tr>\n",
              "    <tr>\n",
              "      <th>65</th>\n",
              "      <td>{'solver': 'saga', 'penalty': 'l2', 'max_iter'...</td>\n",
              "      <td>0.991021</td>\n",
              "      <td>19</td>\n",
              "      <td>0.960510</td>\n",
              "      <td>2</td>\n",
              "      <td>0.827791</td>\n",
              "      <td>4</td>\n",
              "    </tr>\n",
              "    <tr>\n",
              "      <th>22</th>\n",
              "      <td>{'solver': 'liblinear', 'penalty': 'l2', 'max_...</td>\n",
              "      <td>0.991021</td>\n",
              "      <td>19</td>\n",
              "      <td>0.960510</td>\n",
              "      <td>2</td>\n",
              "      <td>0.827791</td>\n",
              "      <td>4</td>\n",
              "    </tr>\n",
              "    <tr>\n",
              "      <th>79</th>\n",
              "      <td>{'solver': 'liblinear', 'penalty': 'l2', 'max_...</td>\n",
              "      <td>0.990928</td>\n",
              "      <td>21</td>\n",
              "      <td>0.959838</td>\n",
              "      <td>4</td>\n",
              "      <td>0.824594</td>\n",
              "      <td>6</td>\n",
              "    </tr>\n",
              "    <tr>\n",
              "      <th>93</th>\n",
              "      <td>{'solver': 'sag', 'penalty': 'l2', 'max_iter':...</td>\n",
              "      <td>0.990928</td>\n",
              "      <td>21</td>\n",
              "      <td>0.959838</td>\n",
              "      <td>4</td>\n",
              "      <td>0.824594</td>\n",
              "      <td>6</td>\n",
              "    </tr>\n",
              "  </tbody>\n",
              "</table>\n",
              "</div>\n",
              "      <button class=\"colab-df-convert\" onclick=\"convertToInteractive('df-cc55624d-0d66-44a4-8cb7-ac8a5816a0a6')\"\n",
              "              title=\"Convert this dataframe to an interactive table.\"\n",
              "              style=\"display:none;\">\n",
              "        \n",
              "  <svg xmlns=\"http://www.w3.org/2000/svg\" height=\"24px\"viewBox=\"0 0 24 24\"\n",
              "       width=\"24px\">\n",
              "    <path d=\"M0 0h24v24H0V0z\" fill=\"none\"/>\n",
              "    <path d=\"M18.56 5.44l.94 2.06.94-2.06 2.06-.94-2.06-.94-.94-2.06-.94 2.06-2.06.94zm-11 1L8.5 8.5l.94-2.06 2.06-.94-2.06-.94L8.5 2.5l-.94 2.06-2.06.94zm10 10l.94 2.06.94-2.06 2.06-.94-2.06-.94-.94-2.06-.94 2.06-2.06.94z\"/><path d=\"M17.41 7.96l-1.37-1.37c-.4-.4-.92-.59-1.43-.59-.52 0-1.04.2-1.43.59L10.3 9.45l-7.72 7.72c-.78.78-.78 2.05 0 2.83L4 21.41c.39.39.9.59 1.41.59.51 0 1.02-.2 1.41-.59l7.78-7.78 2.81-2.81c.8-.78.8-2.07 0-2.86zM5.41 20L4 18.59l7.72-7.72 1.47 1.35L5.41 20z\"/>\n",
              "  </svg>\n",
              "      </button>\n",
              "      \n",
              "  <style>\n",
              "    .colab-df-container {\n",
              "      display:flex;\n",
              "      flex-wrap:wrap;\n",
              "      gap: 12px;\n",
              "    }\n",
              "\n",
              "    .colab-df-convert {\n",
              "      background-color: #E8F0FE;\n",
              "      border: none;\n",
              "      border-radius: 50%;\n",
              "      cursor: pointer;\n",
              "      display: none;\n",
              "      fill: #1967D2;\n",
              "      height: 32px;\n",
              "      padding: 0 0 0 0;\n",
              "      width: 32px;\n",
              "    }\n",
              "\n",
              "    .colab-df-convert:hover {\n",
              "      background-color: #E2EBFA;\n",
              "      box-shadow: 0px 1px 2px rgba(60, 64, 67, 0.3), 0px 1px 3px 1px rgba(60, 64, 67, 0.15);\n",
              "      fill: #174EA6;\n",
              "    }\n",
              "\n",
              "    [theme=dark] .colab-df-convert {\n",
              "      background-color: #3B4455;\n",
              "      fill: #D2E3FC;\n",
              "    }\n",
              "\n",
              "    [theme=dark] .colab-df-convert:hover {\n",
              "      background-color: #434B5C;\n",
              "      box-shadow: 0px 1px 3px 1px rgba(0, 0, 0, 0.15);\n",
              "      filter: drop-shadow(0px 1px 2px rgba(0, 0, 0, 0.3));\n",
              "      fill: #FFFFFF;\n",
              "    }\n",
              "  </style>\n",
              "\n",
              "      <script>\n",
              "        const buttonEl =\n",
              "          document.querySelector('#df-cc55624d-0d66-44a4-8cb7-ac8a5816a0a6 button.colab-df-convert');\n",
              "        buttonEl.style.display =\n",
              "          google.colab.kernel.accessAllowed ? 'block' : 'none';\n",
              "\n",
              "        async function convertToInteractive(key) {\n",
              "          const element = document.querySelector('#df-cc55624d-0d66-44a4-8cb7-ac8a5816a0a6');\n",
              "          const dataTable =\n",
              "            await google.colab.kernel.invokeFunction('convertToInteractive',\n",
              "                                                     [key], {});\n",
              "          if (!dataTable) return;\n",
              "\n",
              "          const docLinkHtml = 'Like what you see? Visit the ' +\n",
              "            '<a target=\"_blank\" href=https://colab.research.google.com/notebooks/data_table.ipynb>data table notebook</a>'\n",
              "            + ' to learn more about interactive tables.';\n",
              "          element.innerHTML = '';\n",
              "          dataTable['output_type'] = 'display_data';\n",
              "          await google.colab.output.renderOutput(dataTable, element);\n",
              "          const docLink = document.createElement('div');\n",
              "          docLink.innerHTML = docLinkHtml;\n",
              "          element.appendChild(docLink);\n",
              "        }\n",
              "      </script>\n",
              "    </div>\n",
              "  </div>\n",
              "  "
            ]
          },
          "metadata": {},
          "execution_count": 30
        }
      ]
    },
    {
      "cell_type": "code",
      "source": [
        "results_SVC[['params','mean_test_prec','rank_test_prec','mean_test_acc','rank_test_acc', 'mean_test_f1','rank_test_f1']].sort_values('mean_test_acc', ascending=False).head()"
      ],
      "metadata": {
        "colab": {
          "base_uri": "https://localhost:8080/",
          "height": 206
        },
        "id": "2_7s1fzZEkm6",
        "outputId": "36c48ffc-9e23-4c52-b6bc-c535561c8acf"
      },
      "execution_count": 31,
      "outputs": [
        {
          "output_type": "execute_result",
          "data": {
            "text/plain": [
              "                                               params  mean_test_prec  \\\n",
              "29  {'kernel': 'linear', 'gamma': 0.3811, 'C': 0.8...        0.982848   \n",
              "14  {'kernel': 'linear', 'gamma': 0.4771, 'C': 0.7...        0.984613   \n",
              "20  {'kernel': 'linear', 'gamma': 0.6371, 'C': 0.8...        0.982823   \n",
              "36  {'kernel': 'linear', 'gamma': 0.8461, 'C': 0.6...        0.986327   \n",
              "42  {'kernel': 'sigmoid', 'gamma': 0.8071, 'C': 0....        0.984136   \n",
              "\n",
              "    rank_test_prec  mean_test_acc  rank_test_acc  mean_test_f1  rank_test_f1  \n",
              "29              31       0.978236              1      0.912937             1  \n",
              "14              29       0.978011              2      0.911803             3  \n",
              "20              32       0.978011              2      0.911933             2  \n",
              "36              27       0.977114              4      0.907683             4  \n",
              "42              30       0.975543              5      0.900852             5  "
            ],
            "text/html": [
              "\n",
              "  <div id=\"df-df868ee7-5680-4b65-91f4-254f4f9479e1\">\n",
              "    <div class=\"colab-df-container\">\n",
              "      <div>\n",
              "<style scoped>\n",
              "    .dataframe tbody tr th:only-of-type {\n",
              "        vertical-align: middle;\n",
              "    }\n",
              "\n",
              "    .dataframe tbody tr th {\n",
              "        vertical-align: top;\n",
              "    }\n",
              "\n",
              "    .dataframe thead th {\n",
              "        text-align: right;\n",
              "    }\n",
              "</style>\n",
              "<table border=\"1\" class=\"dataframe\">\n",
              "  <thead>\n",
              "    <tr style=\"text-align: right;\">\n",
              "      <th></th>\n",
              "      <th>params</th>\n",
              "      <th>mean_test_prec</th>\n",
              "      <th>rank_test_prec</th>\n",
              "      <th>mean_test_acc</th>\n",
              "      <th>rank_test_acc</th>\n",
              "      <th>mean_test_f1</th>\n",
              "      <th>rank_test_f1</th>\n",
              "    </tr>\n",
              "  </thead>\n",
              "  <tbody>\n",
              "    <tr>\n",
              "      <th>29</th>\n",
              "      <td>{'kernel': 'linear', 'gamma': 0.3811, 'C': 0.8...</td>\n",
              "      <td>0.982848</td>\n",
              "      <td>31</td>\n",
              "      <td>0.978236</td>\n",
              "      <td>1</td>\n",
              "      <td>0.912937</td>\n",
              "      <td>1</td>\n",
              "    </tr>\n",
              "    <tr>\n",
              "      <th>14</th>\n",
              "      <td>{'kernel': 'linear', 'gamma': 0.4771, 'C': 0.7...</td>\n",
              "      <td>0.984613</td>\n",
              "      <td>29</td>\n",
              "      <td>0.978011</td>\n",
              "      <td>2</td>\n",
              "      <td>0.911803</td>\n",
              "      <td>3</td>\n",
              "    </tr>\n",
              "    <tr>\n",
              "      <th>20</th>\n",
              "      <td>{'kernel': 'linear', 'gamma': 0.6371, 'C': 0.8...</td>\n",
              "      <td>0.982823</td>\n",
              "      <td>32</td>\n",
              "      <td>0.978011</td>\n",
              "      <td>2</td>\n",
              "      <td>0.911933</td>\n",
              "      <td>2</td>\n",
              "    </tr>\n",
              "    <tr>\n",
              "      <th>36</th>\n",
              "      <td>{'kernel': 'linear', 'gamma': 0.8461, 'C': 0.6...</td>\n",
              "      <td>0.986327</td>\n",
              "      <td>27</td>\n",
              "      <td>0.977114</td>\n",
              "      <td>4</td>\n",
              "      <td>0.907683</td>\n",
              "      <td>4</td>\n",
              "    </tr>\n",
              "    <tr>\n",
              "      <th>42</th>\n",
              "      <td>{'kernel': 'sigmoid', 'gamma': 0.8071, 'C': 0....</td>\n",
              "      <td>0.984136</td>\n",
              "      <td>30</td>\n",
              "      <td>0.975543</td>\n",
              "      <td>5</td>\n",
              "      <td>0.900852</td>\n",
              "      <td>5</td>\n",
              "    </tr>\n",
              "  </tbody>\n",
              "</table>\n",
              "</div>\n",
              "      <button class=\"colab-df-convert\" onclick=\"convertToInteractive('df-df868ee7-5680-4b65-91f4-254f4f9479e1')\"\n",
              "              title=\"Convert this dataframe to an interactive table.\"\n",
              "              style=\"display:none;\">\n",
              "        \n",
              "  <svg xmlns=\"http://www.w3.org/2000/svg\" height=\"24px\"viewBox=\"0 0 24 24\"\n",
              "       width=\"24px\">\n",
              "    <path d=\"M0 0h24v24H0V0z\" fill=\"none\"/>\n",
              "    <path d=\"M18.56 5.44l.94 2.06.94-2.06 2.06-.94-2.06-.94-.94-2.06-.94 2.06-2.06.94zm-11 1L8.5 8.5l.94-2.06 2.06-.94-2.06-.94L8.5 2.5l-.94 2.06-2.06.94zm10 10l.94 2.06.94-2.06 2.06-.94-2.06-.94-.94-2.06-.94 2.06-2.06.94z\"/><path d=\"M17.41 7.96l-1.37-1.37c-.4-.4-.92-.59-1.43-.59-.52 0-1.04.2-1.43.59L10.3 9.45l-7.72 7.72c-.78.78-.78 2.05 0 2.83L4 21.41c.39.39.9.59 1.41.59.51 0 1.02-.2 1.41-.59l7.78-7.78 2.81-2.81c.8-.78.8-2.07 0-2.86zM5.41 20L4 18.59l7.72-7.72 1.47 1.35L5.41 20z\"/>\n",
              "  </svg>\n",
              "      </button>\n",
              "      \n",
              "  <style>\n",
              "    .colab-df-container {\n",
              "      display:flex;\n",
              "      flex-wrap:wrap;\n",
              "      gap: 12px;\n",
              "    }\n",
              "\n",
              "    .colab-df-convert {\n",
              "      background-color: #E8F0FE;\n",
              "      border: none;\n",
              "      border-radius: 50%;\n",
              "      cursor: pointer;\n",
              "      display: none;\n",
              "      fill: #1967D2;\n",
              "      height: 32px;\n",
              "      padding: 0 0 0 0;\n",
              "      width: 32px;\n",
              "    }\n",
              "\n",
              "    .colab-df-convert:hover {\n",
              "      background-color: #E2EBFA;\n",
              "      box-shadow: 0px 1px 2px rgba(60, 64, 67, 0.3), 0px 1px 3px 1px rgba(60, 64, 67, 0.15);\n",
              "      fill: #174EA6;\n",
              "    }\n",
              "\n",
              "    [theme=dark] .colab-df-convert {\n",
              "      background-color: #3B4455;\n",
              "      fill: #D2E3FC;\n",
              "    }\n",
              "\n",
              "    [theme=dark] .colab-df-convert:hover {\n",
              "      background-color: #434B5C;\n",
              "      box-shadow: 0px 1px 3px 1px rgba(0, 0, 0, 0.15);\n",
              "      filter: drop-shadow(0px 1px 2px rgba(0, 0, 0, 0.3));\n",
              "      fill: #FFFFFF;\n",
              "    }\n",
              "  </style>\n",
              "\n",
              "      <script>\n",
              "        const buttonEl =\n",
              "          document.querySelector('#df-df868ee7-5680-4b65-91f4-254f4f9479e1 button.colab-df-convert');\n",
              "        buttonEl.style.display =\n",
              "          google.colab.kernel.accessAllowed ? 'block' : 'none';\n",
              "\n",
              "        async function convertToInteractive(key) {\n",
              "          const element = document.querySelector('#df-df868ee7-5680-4b65-91f4-254f4f9479e1');\n",
              "          const dataTable =\n",
              "            await google.colab.kernel.invokeFunction('convertToInteractive',\n",
              "                                                     [key], {});\n",
              "          if (!dataTable) return;\n",
              "\n",
              "          const docLinkHtml = 'Like what you see? Visit the ' +\n",
              "            '<a target=\"_blank\" href=https://colab.research.google.com/notebooks/data_table.ipynb>data table notebook</a>'\n",
              "            + ' to learn more about interactive tables.';\n",
              "          element.innerHTML = '';\n",
              "          dataTable['output_type'] = 'display_data';\n",
              "          await google.colab.output.renderOutput(dataTable, element);\n",
              "          const docLink = document.createElement('div');\n",
              "          docLink.innerHTML = docLinkHtml;\n",
              "          element.appendChild(docLink);\n",
              "        }\n",
              "      </script>\n",
              "    </div>\n",
              "  </div>\n",
              "  "
            ]
          },
          "metadata": {},
          "execution_count": 31
        }
      ]
    },
    {
      "cell_type": "code",
      "source": [
        "results_XGB[['params','mean_test_prec','rank_test_prec','mean_test_acc','rank_test_acc', 'mean_test_f1','rank_test_f1']].sort_values('mean_test_acc', ascending=False).head()"
      ],
      "metadata": {
        "colab": {
          "base_uri": "https://localhost:8080/",
          "height": 206
        },
        "id": "vSKhDn9UEkui",
        "outputId": "9bc19dde-89c6-4bf6-9446-34548d46c24f"
      },
      "execution_count": 32,
      "outputs": [
        {
          "output_type": "execute_result",
          "data": {
            "text/plain": [
              "                                          params  mean_test_prec  \\\n",
              "17  {'n_estimators': 310, 'loss': 'exponential'}        0.946626   \n",
              "5      {'n_estimators': 380, 'loss': 'deviance'}        0.943019   \n",
              "14  {'n_estimators': 380, 'loss': 'exponential'}        0.943019   \n",
              "45  {'n_estimators': 350, 'loss': 'exponential'}        0.946207   \n",
              "37     {'n_estimators': 350, 'loss': 'deviance'}        0.946207   \n",
              "\n",
              "    rank_test_prec  mean_test_acc  rank_test_acc  mean_test_f1  rank_test_f1  \n",
              "17              17       0.974422              1      0.899754             1  \n",
              "5               27       0.973973              2      0.898232             2  \n",
              "14              27       0.973973              2      0.898232             2  \n",
              "45              19       0.973749              4      0.896929             4  \n",
              "37              19       0.973749              4      0.896929             4  "
            ],
            "text/html": [
              "\n",
              "  <div id=\"df-ce5d3f08-4eef-4bb2-93bf-477214951bd4\">\n",
              "    <div class=\"colab-df-container\">\n",
              "      <div>\n",
              "<style scoped>\n",
              "    .dataframe tbody tr th:only-of-type {\n",
              "        vertical-align: middle;\n",
              "    }\n",
              "\n",
              "    .dataframe tbody tr th {\n",
              "        vertical-align: top;\n",
              "    }\n",
              "\n",
              "    .dataframe thead th {\n",
              "        text-align: right;\n",
              "    }\n",
              "</style>\n",
              "<table border=\"1\" class=\"dataframe\">\n",
              "  <thead>\n",
              "    <tr style=\"text-align: right;\">\n",
              "      <th></th>\n",
              "      <th>params</th>\n",
              "      <th>mean_test_prec</th>\n",
              "      <th>rank_test_prec</th>\n",
              "      <th>mean_test_acc</th>\n",
              "      <th>rank_test_acc</th>\n",
              "      <th>mean_test_f1</th>\n",
              "      <th>rank_test_f1</th>\n",
              "    </tr>\n",
              "  </thead>\n",
              "  <tbody>\n",
              "    <tr>\n",
              "      <th>17</th>\n",
              "      <td>{'n_estimators': 310, 'loss': 'exponential'}</td>\n",
              "      <td>0.946626</td>\n",
              "      <td>17</td>\n",
              "      <td>0.974422</td>\n",
              "      <td>1</td>\n",
              "      <td>0.899754</td>\n",
              "      <td>1</td>\n",
              "    </tr>\n",
              "    <tr>\n",
              "      <th>5</th>\n",
              "      <td>{'n_estimators': 380, 'loss': 'deviance'}</td>\n",
              "      <td>0.943019</td>\n",
              "      <td>27</td>\n",
              "      <td>0.973973</td>\n",
              "      <td>2</td>\n",
              "      <td>0.898232</td>\n",
              "      <td>2</td>\n",
              "    </tr>\n",
              "    <tr>\n",
              "      <th>14</th>\n",
              "      <td>{'n_estimators': 380, 'loss': 'exponential'}</td>\n",
              "      <td>0.943019</td>\n",
              "      <td>27</td>\n",
              "      <td>0.973973</td>\n",
              "      <td>2</td>\n",
              "      <td>0.898232</td>\n",
              "      <td>2</td>\n",
              "    </tr>\n",
              "    <tr>\n",
              "      <th>45</th>\n",
              "      <td>{'n_estimators': 350, 'loss': 'exponential'}</td>\n",
              "      <td>0.946207</td>\n",
              "      <td>19</td>\n",
              "      <td>0.973749</td>\n",
              "      <td>4</td>\n",
              "      <td>0.896929</td>\n",
              "      <td>4</td>\n",
              "    </tr>\n",
              "    <tr>\n",
              "      <th>37</th>\n",
              "      <td>{'n_estimators': 350, 'loss': 'deviance'}</td>\n",
              "      <td>0.946207</td>\n",
              "      <td>19</td>\n",
              "      <td>0.973749</td>\n",
              "      <td>4</td>\n",
              "      <td>0.896929</td>\n",
              "      <td>4</td>\n",
              "    </tr>\n",
              "  </tbody>\n",
              "</table>\n",
              "</div>\n",
              "      <button class=\"colab-df-convert\" onclick=\"convertToInteractive('df-ce5d3f08-4eef-4bb2-93bf-477214951bd4')\"\n",
              "              title=\"Convert this dataframe to an interactive table.\"\n",
              "              style=\"display:none;\">\n",
              "        \n",
              "  <svg xmlns=\"http://www.w3.org/2000/svg\" height=\"24px\"viewBox=\"0 0 24 24\"\n",
              "       width=\"24px\">\n",
              "    <path d=\"M0 0h24v24H0V0z\" fill=\"none\"/>\n",
              "    <path d=\"M18.56 5.44l.94 2.06.94-2.06 2.06-.94-2.06-.94-.94-2.06-.94 2.06-2.06.94zm-11 1L8.5 8.5l.94-2.06 2.06-.94-2.06-.94L8.5 2.5l-.94 2.06-2.06.94zm10 10l.94 2.06.94-2.06 2.06-.94-2.06-.94-.94-2.06-.94 2.06-2.06.94z\"/><path d=\"M17.41 7.96l-1.37-1.37c-.4-.4-.92-.59-1.43-.59-.52 0-1.04.2-1.43.59L10.3 9.45l-7.72 7.72c-.78.78-.78 2.05 0 2.83L4 21.41c.39.39.9.59 1.41.59.51 0 1.02-.2 1.41-.59l7.78-7.78 2.81-2.81c.8-.78.8-2.07 0-2.86zM5.41 20L4 18.59l7.72-7.72 1.47 1.35L5.41 20z\"/>\n",
              "  </svg>\n",
              "      </button>\n",
              "      \n",
              "  <style>\n",
              "    .colab-df-container {\n",
              "      display:flex;\n",
              "      flex-wrap:wrap;\n",
              "      gap: 12px;\n",
              "    }\n",
              "\n",
              "    .colab-df-convert {\n",
              "      background-color: #E8F0FE;\n",
              "      border: none;\n",
              "      border-radius: 50%;\n",
              "      cursor: pointer;\n",
              "      display: none;\n",
              "      fill: #1967D2;\n",
              "      height: 32px;\n",
              "      padding: 0 0 0 0;\n",
              "      width: 32px;\n",
              "    }\n",
              "\n",
              "    .colab-df-convert:hover {\n",
              "      background-color: #E2EBFA;\n",
              "      box-shadow: 0px 1px 2px rgba(60, 64, 67, 0.3), 0px 1px 3px 1px rgba(60, 64, 67, 0.15);\n",
              "      fill: #174EA6;\n",
              "    }\n",
              "\n",
              "    [theme=dark] .colab-df-convert {\n",
              "      background-color: #3B4455;\n",
              "      fill: #D2E3FC;\n",
              "    }\n",
              "\n",
              "    [theme=dark] .colab-df-convert:hover {\n",
              "      background-color: #434B5C;\n",
              "      box-shadow: 0px 1px 3px 1px rgba(0, 0, 0, 0.15);\n",
              "      filter: drop-shadow(0px 1px 2px rgba(0, 0, 0, 0.3));\n",
              "      fill: #FFFFFF;\n",
              "    }\n",
              "  </style>\n",
              "\n",
              "      <script>\n",
              "        const buttonEl =\n",
              "          document.querySelector('#df-ce5d3f08-4eef-4bb2-93bf-477214951bd4 button.colab-df-convert');\n",
              "        buttonEl.style.display =\n",
              "          google.colab.kernel.accessAllowed ? 'block' : 'none';\n",
              "\n",
              "        async function convertToInteractive(key) {\n",
              "          const element = document.querySelector('#df-ce5d3f08-4eef-4bb2-93bf-477214951bd4');\n",
              "          const dataTable =\n",
              "            await google.colab.kernel.invokeFunction('convertToInteractive',\n",
              "                                                     [key], {});\n",
              "          if (!dataTable) return;\n",
              "\n",
              "          const docLinkHtml = 'Like what you see? Visit the ' +\n",
              "            '<a target=\"_blank\" href=https://colab.research.google.com/notebooks/data_table.ipynb>data table notebook</a>'\n",
              "            + ' to learn more about interactive tables.';\n",
              "          element.innerHTML = '';\n",
              "          dataTable['output_type'] = 'display_data';\n",
              "          await google.colab.output.renderOutput(dataTable, element);\n",
              "          const docLink = document.createElement('div');\n",
              "          docLink.innerHTML = docLinkHtml;\n",
              "          element.appendChild(docLink);\n",
              "        }\n",
              "      </script>\n",
              "    </div>\n",
              "  </div>\n",
              "  "
            ]
          },
          "metadata": {},
          "execution_count": 32
        }
      ]
    },
    {
      "cell_type": "markdown",
      "source": [
        "## Model Fine-Tuning"
      ],
      "metadata": {
        "id": "1tz-WYpl7KFI"
      }
    },
    {
      "cell_type": "markdown",
      "source": [
        "Parmis touss less modèles testés, nous avons retenu le modèle Multinomial Naif de Bayes pour les raisons suivantes: \n",
        "- Il présente le test moyen d'accurracy le plus élevé comparé aux auters modèles\n",
        "- Idem pur le F1-score\n",
        "- Concernant le test de précision il est moins bon que certains mais meilleur que d'autres"
      ],
      "metadata": {
        "id": "FCcSgGzwiCJr"
      }
    },
    {
      "cell_type": "code",
      "source": [
        "# Select the Best Model\n",
        "Model = MultinomialNB()"
      ],
      "metadata": {
        "id": "jWrmUMG37No9"
      },
      "execution_count": 21,
      "outputs": []
    },
    {
      "cell_type": "markdown",
      "source": [
        "Nous avons choisi de réraliser une optimisation du modèle en se basant sur une Random Search Method en ccross-validation sur 5 blocs et 200 itérations.\n",
        "Le modèle n'ayant pas beaucoup de paramètres nous nous sommes permiss de tous les tester dans des intervalles suffisament grands pour obtenir des résultats (en restant raisonables s'agissant du temps d'exécution)."
      ],
      "metadata": {
        "id": "2bdlgBXBimhF"
      }
    },
    {
      "cell_type": "code",
      "source": [
        "# List the hypeparameters and optimize with Random Search\n",
        "\n",
        "parameters_space = {'alpha' : np.arange(0, 5, 0.0001),\n",
        "                    'fit_prior' : [True, False],\n",
        "                    'class_prior': [[.2, .8],[.1,.9],[.3,.7],[.4,.6], None]\n",
        "                    }\n",
        "\n",
        "rscv_Model = RandomizedSearchCV(Model, \n",
        "                          parameters_space, \n",
        "                          n_iter=200, \n",
        "                          cv=5, \n",
        "                          scoring = scoring, \n",
        "                          refit='prec',\n",
        "                          verbose=0,\n",
        "                          random_state=42)\n",
        "\n",
        "rscv_Model.fit(X_train_tfidf, Y_train)\n",
        "\n",
        "results_Model = pd.DataFrame(rscv_Model.cv_results_)"
      ],
      "metadata": {
        "id": "GZpMK8wd7YOf"
      },
      "execution_count": 35,
      "outputs": []
    },
    {
      "cell_type": "code",
      "source": [
        "rscv_Model.best_score_, rscv_Model.best_params_"
      ],
      "metadata": {
        "colab": {
          "base_uri": "https://localhost:8080/"
        },
        "id": "FNjLvXScGmWx",
        "outputId": "5a91208d-b72a-4209-8c92-6f78f3d69cf8"
      },
      "execution_count": 36,
      "outputs": [
        {
          "output_type": "execute_result",
          "data": {
            "text/plain": [
              "(1.0, {'fit_prior': True, 'class_prior': None, 'alpha': 1.2195})"
            ]
          },
          "metadata": {},
          "execution_count": 36
        }
      ]
    },
    {
      "cell_type": "markdown",
      "source": [
        "Avec les meilleurs paramètres testés paar le RSCV nouss allons jusqu'à un score de précision de 93%, unF1-score de 93% et un test d'accuracy de 98%."
      ],
      "metadata": {
        "id": "vmyJakPgjPR9"
      }
    },
    {
      "cell_type": "code",
      "source": [
        "results_Model[['params','mean_test_prec','rank_test_prec','mean_test_acc','rank_test_acc', 'mean_test_f1','rank_test_f1']].sort_values('mean_test_acc', ascending=False).head()"
      ],
      "metadata": {
        "colab": {
          "base_uri": "https://localhost:8080/",
          "height": 206
        },
        "id": "PudukntHG7tg",
        "outputId": "5af0aca6-1dbf-4d45-95d1-76a735049322"
      },
      "execution_count": 37,
      "outputs": [
        {
          "output_type": "execute_result",
          "data": {
            "text/plain": [
              "                                                params  mean_test_prec  \\\n",
              "119  {'fit_prior': True, 'class_prior': None, 'alph...        0.939771   \n",
              "170  {'fit_prior': True, 'class_prior': None, 'alph...        0.966200   \n",
              "145  {'fit_prior': True, 'class_prior': None, 'alph...        0.991149   \n",
              "72   {'fit_prior': True, 'class_prior': None, 'alph...        0.993251   \n",
              "104  {'fit_prior': False, 'class_prior': None, 'alp...        0.826981   \n",
              "\n",
              "     rank_test_prec  mean_test_acc  rank_test_acc  mean_test_f1  rank_test_f1  \n",
              "119              23       0.983397              1      0.937992             1  \n",
              "170              22       0.982724              2      0.933326             2  \n",
              "145              21       0.969711              3      0.873047             3  \n",
              "72               20       0.967691              4      0.863317             9  \n",
              "104              47       0.963205              5      0.870051             4  "
            ],
            "text/html": [
              "\n",
              "  <div id=\"df-6526c649-356d-422b-bd1b-abf8093ad657\">\n",
              "    <div class=\"colab-df-container\">\n",
              "      <div>\n",
              "<style scoped>\n",
              "    .dataframe tbody tr th:only-of-type {\n",
              "        vertical-align: middle;\n",
              "    }\n",
              "\n",
              "    .dataframe tbody tr th {\n",
              "        vertical-align: top;\n",
              "    }\n",
              "\n",
              "    .dataframe thead th {\n",
              "        text-align: right;\n",
              "    }\n",
              "</style>\n",
              "<table border=\"1\" class=\"dataframe\">\n",
              "  <thead>\n",
              "    <tr style=\"text-align: right;\">\n",
              "      <th></th>\n",
              "      <th>params</th>\n",
              "      <th>mean_test_prec</th>\n",
              "      <th>rank_test_prec</th>\n",
              "      <th>mean_test_acc</th>\n",
              "      <th>rank_test_acc</th>\n",
              "      <th>mean_test_f1</th>\n",
              "      <th>rank_test_f1</th>\n",
              "    </tr>\n",
              "  </thead>\n",
              "  <tbody>\n",
              "    <tr>\n",
              "      <th>119</th>\n",
              "      <td>{'fit_prior': True, 'class_prior': None, 'alph...</td>\n",
              "      <td>0.939771</td>\n",
              "      <td>23</td>\n",
              "      <td>0.983397</td>\n",
              "      <td>1</td>\n",
              "      <td>0.937992</td>\n",
              "      <td>1</td>\n",
              "    </tr>\n",
              "    <tr>\n",
              "      <th>170</th>\n",
              "      <td>{'fit_prior': True, 'class_prior': None, 'alph...</td>\n",
              "      <td>0.966200</td>\n",
              "      <td>22</td>\n",
              "      <td>0.982724</td>\n",
              "      <td>2</td>\n",
              "      <td>0.933326</td>\n",
              "      <td>2</td>\n",
              "    </tr>\n",
              "    <tr>\n",
              "      <th>145</th>\n",
              "      <td>{'fit_prior': True, 'class_prior': None, 'alph...</td>\n",
              "      <td>0.991149</td>\n",
              "      <td>21</td>\n",
              "      <td>0.969711</td>\n",
              "      <td>3</td>\n",
              "      <td>0.873047</td>\n",
              "      <td>3</td>\n",
              "    </tr>\n",
              "    <tr>\n",
              "      <th>72</th>\n",
              "      <td>{'fit_prior': True, 'class_prior': None, 'alph...</td>\n",
              "      <td>0.993251</td>\n",
              "      <td>20</td>\n",
              "      <td>0.967691</td>\n",
              "      <td>4</td>\n",
              "      <td>0.863317</td>\n",
              "      <td>9</td>\n",
              "    </tr>\n",
              "    <tr>\n",
              "      <th>104</th>\n",
              "      <td>{'fit_prior': False, 'class_prior': None, 'alp...</td>\n",
              "      <td>0.826981</td>\n",
              "      <td>47</td>\n",
              "      <td>0.963205</td>\n",
              "      <td>5</td>\n",
              "      <td>0.870051</td>\n",
              "      <td>4</td>\n",
              "    </tr>\n",
              "  </tbody>\n",
              "</table>\n",
              "</div>\n",
              "      <button class=\"colab-df-convert\" onclick=\"convertToInteractive('df-6526c649-356d-422b-bd1b-abf8093ad657')\"\n",
              "              title=\"Convert this dataframe to an interactive table.\"\n",
              "              style=\"display:none;\">\n",
              "        \n",
              "  <svg xmlns=\"http://www.w3.org/2000/svg\" height=\"24px\"viewBox=\"0 0 24 24\"\n",
              "       width=\"24px\">\n",
              "    <path d=\"M0 0h24v24H0V0z\" fill=\"none\"/>\n",
              "    <path d=\"M18.56 5.44l.94 2.06.94-2.06 2.06-.94-2.06-.94-.94-2.06-.94 2.06-2.06.94zm-11 1L8.5 8.5l.94-2.06 2.06-.94-2.06-.94L8.5 2.5l-.94 2.06-2.06.94zm10 10l.94 2.06.94-2.06 2.06-.94-2.06-.94-.94-2.06-.94 2.06-2.06.94z\"/><path d=\"M17.41 7.96l-1.37-1.37c-.4-.4-.92-.59-1.43-.59-.52 0-1.04.2-1.43.59L10.3 9.45l-7.72 7.72c-.78.78-.78 2.05 0 2.83L4 21.41c.39.39.9.59 1.41.59.51 0 1.02-.2 1.41-.59l7.78-7.78 2.81-2.81c.8-.78.8-2.07 0-2.86zM5.41 20L4 18.59l7.72-7.72 1.47 1.35L5.41 20z\"/>\n",
              "  </svg>\n",
              "      </button>\n",
              "      \n",
              "  <style>\n",
              "    .colab-df-container {\n",
              "      display:flex;\n",
              "      flex-wrap:wrap;\n",
              "      gap: 12px;\n",
              "    }\n",
              "\n",
              "    .colab-df-convert {\n",
              "      background-color: #E8F0FE;\n",
              "      border: none;\n",
              "      border-radius: 50%;\n",
              "      cursor: pointer;\n",
              "      display: none;\n",
              "      fill: #1967D2;\n",
              "      height: 32px;\n",
              "      padding: 0 0 0 0;\n",
              "      width: 32px;\n",
              "    }\n",
              "\n",
              "    .colab-df-convert:hover {\n",
              "      background-color: #E2EBFA;\n",
              "      box-shadow: 0px 1px 2px rgba(60, 64, 67, 0.3), 0px 1px 3px 1px rgba(60, 64, 67, 0.15);\n",
              "      fill: #174EA6;\n",
              "    }\n",
              "\n",
              "    [theme=dark] .colab-df-convert {\n",
              "      background-color: #3B4455;\n",
              "      fill: #D2E3FC;\n",
              "    }\n",
              "\n",
              "    [theme=dark] .colab-df-convert:hover {\n",
              "      background-color: #434B5C;\n",
              "      box-shadow: 0px 1px 3px 1px rgba(0, 0, 0, 0.15);\n",
              "      filter: drop-shadow(0px 1px 2px rgba(0, 0, 0, 0.3));\n",
              "      fill: #FFFFFF;\n",
              "    }\n",
              "  </style>\n",
              "\n",
              "      <script>\n",
              "        const buttonEl =\n",
              "          document.querySelector('#df-6526c649-356d-422b-bd1b-abf8093ad657 button.colab-df-convert');\n",
              "        buttonEl.style.display =\n",
              "          google.colab.kernel.accessAllowed ? 'block' : 'none';\n",
              "\n",
              "        async function convertToInteractive(key) {\n",
              "          const element = document.querySelector('#df-6526c649-356d-422b-bd1b-abf8093ad657');\n",
              "          const dataTable =\n",
              "            await google.colab.kernel.invokeFunction('convertToInteractive',\n",
              "                                                     [key], {});\n",
              "          if (!dataTable) return;\n",
              "\n",
              "          const docLinkHtml = 'Like what you see? Visit the ' +\n",
              "            '<a target=\"_blank\" href=https://colab.research.google.com/notebooks/data_table.ipynb>data table notebook</a>'\n",
              "            + ' to learn more about interactive tables.';\n",
              "          element.innerHTML = '';\n",
              "          dataTable['output_type'] = 'display_data';\n",
              "          await google.colab.output.renderOutput(dataTable, element);\n",
              "          const docLink = document.createElement('div');\n",
              "          docLink.innerHTML = docLinkHtml;\n",
              "          element.appendChild(docLink);\n",
              "        }\n",
              "      </script>\n",
              "    </div>\n",
              "  </div>\n",
              "  "
            ]
          },
          "metadata": {},
          "execution_count": 37
        }
      ]
    },
    {
      "cell_type": "markdown",
      "source": [
        "Nous réentrainons donc le modèle avec ces paramètres ssur le jeu d'entrainement et obtenons lee score final de 96% sur le jeu d'entrainement."
      ],
      "metadata": {
        "id": "O_UEeUADjf2z"
      }
    },
    {
      "cell_type": "code",
      "source": [
        "# Rtrain the model\n",
        "FinalModel = MultinomialNB(fit_prior=True, class_prior=None, alpha=1.2195)\n",
        "\n",
        "FinalModel.fit(X_train_tfidf, Y_train)\n",
        "\n",
        "print(\"Accuracy Score of the retained Multinomial Naiv Bayes Model : {:.2f}%\".format(FinalModel.score(X_train_tfidf, Y_train)*100))"
      ],
      "metadata": {
        "colab": {
          "base_uri": "https://localhost:8080/"
        },
        "id": "zxIUSWYlGi__",
        "outputId": "59387085-6ee2-406e-ad4c-fa742c64e79e"
      },
      "execution_count": 103,
      "outputs": [
        {
          "output_type": "stream",
          "name": "stdout",
          "text": [
            "Accuracy Score of the retained Multinomial Naiv Bayes Model : 96.52%\n"
          ]
        }
      ]
    },
    {
      "cell_type": "markdown",
      "source": [
        "## Model Testing"
      ],
      "metadata": {
        "id": "LJuZj4PiH3bm"
      }
    },
    {
      "cell_type": "markdown",
      "source": [
        "Nous paassons donc au test de notre modèle sur le jeu de test. Pour cela nous lui réappliquons les transformations faites au modèle d'entrainement."
      ],
      "metadata": {
        "id": "gSpjTriBjvpn"
      }
    },
    {
      "cell_type": "code",
      "source": [
        "# Take the splitted Dataset and reset index\n",
        "DF_test = Test_dataset.copy().reset_index().drop(['index'], axis=1)\n",
        "\n",
        "# Apply same transformations as the Train Dataset\n",
        "clean_txt = []\n",
        "\n",
        "for w in range(len(DF_test.text)):\n",
        "    desc = DF_test['text'][w].lower()\n",
        "\n",
        "    #remove punctuation\n",
        "    desc = re.sub('[^a-zA-Z]', ' ', desc)\n",
        "\n",
        "    #remove tags\n",
        "    desc = re.sub(\"&lt;/?.*?&gt;\",\" &lt;&gt; \",desc)\n",
        "\n",
        "    #remove digits and special chars\n",
        "    desc = re.sub(\"(\\\\d|\\\\W)+\",\" \",desc)\n",
        "    clean_txt.append(desc)\n",
        "\n",
        "DF_test['text'] = clean_txt\n",
        "\n",
        "print(\"Remove secial chars from text data of the Test Dataset :\\n{}\\n\".format((DF_test.head())))\n",
        "\n",
        "X_test = np.array(DF_test.copy())\n",
        "Y_test = X_test.pop('label')\n",
        "\n",
        "print(\"Lengh of Test Datast : {}\\n\".format(len(X_test)))"
      ],
      "metadata": {
        "colab": {
          "base_uri": "https://localhost:8080/"
        },
        "id": "oy654togH-OW",
        "outputId": "e1e9648f-e5bd-491e-ecb6-4c918ca8f327"
      },
      "execution_count": 91,
      "outputs": [
        {
          "output_type": "stream",
          "name": "stdout",
          "text": [
            "Remove secial chars from text data of the Test Dataset :\n",
            "  label                                               text\n",
            "0   ham  oh right ok i ll make sure that i do loads of ...\n",
            "1   ham                       i am in tirupur call you da \n",
            "2   ham             no that just means you have a fat head\n",
            "3  spam        you have won cash or a prize to claim call \n",
            "4   ham  come aftr lt decimal gt now i m cleaning the h...\n",
            "\n",
            "Lengh of Test Datast : 1115\n",
            "\n"
          ]
        }
      ]
    },
    {
      "cell_type": "code",
      "source": [
        "# Transform Test Data\n",
        "X_test_f = count_vect.transform(X_test)\n",
        "X_test_f = tfidf_transformer.transform(X_test_f)\n",
        "\n",
        "# Predict Test Data\n",
        "predicted = FinalModel.predict(X_test_f)"
      ],
      "metadata": {
        "id": "exX_l8rMSjXH"
      },
      "execution_count": 111,
      "outputs": []
    },
    {
      "cell_type": "markdown",
      "source": [
        "Enfin, nous prédisons sur le jeu de test, eet évaluons less résultats.\n",
        "Le modèle a correctementt classifié 100% des emails normaux et 95% des emails de type spam (score de précision). Avec une accuracy générale de 97%.\n",
        "Le faait qu'il classifie mieux les emails normaux de nous éetonnent que peu étant donné la répartition de base (87% normaux et 13% spam)"
      ],
      "metadata": {
        "id": "Qlq-mbA3kCXh"
      }
    },
    {
      "cell_type": "code",
      "source": [
        "from sklearn.metrics import classification_report\n",
        "\n",
        "print('accuracy %s' % accuracy_score(predicted, Y_test))\n",
        "print(classification_report(Y_test, predicted,target_names=['spam','ham']))"
      ],
      "metadata": {
        "colab": {
          "base_uri": "https://localhost:8080/"
        },
        "id": "xEZdfqPvMW_-",
        "outputId": "d270298c-474f-4f07-c107-76920325711c"
      },
      "execution_count": 112,
      "outputs": [
        {
          "output_type": "stream",
          "name": "stdout",
          "text": [
            "accuracy 0.9533632286995516\n",
            "              precision    recall  f1-score   support\n",
            "\n",
            "        spam       0.95      1.00      0.97       966\n",
            "         ham       1.00      0.65      0.79       149\n",
            "\n",
            "    accuracy                           0.95      1115\n",
            "   macro avg       0.97      0.83      0.88      1115\n",
            "weighted avg       0.96      0.95      0.95      1115\n",
            "\n"
          ]
        }
      ]
    },
    {
      "cell_type": "markdown",
      "source": [
        "## Test it for fun !"
      ],
      "metadata": {
        "id": "mgL28JiNYScH"
      }
    },
    {
      "cell_type": "code",
      "source": [
        "emails = [\"Dear Valentin, I know you're busy, but could you check for the final request I send you. Thank you in advance. Thibault\"]\n",
        "\n",
        "tst = count_vect.transform(np.array(emails))\n",
        "tst = tfidf_transformer.transform(tst)\n",
        "\n",
        "prediction = FinalModel.predict(tst)\n",
        "\n",
        "print(prediction)"
      ],
      "metadata": {
        "colab": {
          "base_uri": "https://localhost:8080/"
        },
        "id": "sROEOyfBYVNJ",
        "outputId": "d8326fdf-dabd-487c-9973-44ec7cc863e1"
      },
      "execution_count": 121,
      "outputs": [
        {
          "output_type": "stream",
          "name": "stdout",
          "text": [
            "['ham']\n"
          ]
        }
      ]
    }
  ]
}